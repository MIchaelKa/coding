{
 "cells": [
  {
   "cell_type": "markdown",
   "id": "bc5d73e7-723e-42cc-b3c4-5c9058353875",
   "metadata": {},
   "source": [
    "# Helpers"
   ]
  },
  {
   "cell_type": "code",
   "execution_count": null,
   "id": "36a3d42d-3e31-456a-a596-9fa1e6810d48",
   "metadata": {},
   "outputs": [],
   "source": [
    "from __future__ import annotations"
   ]
  },
  {
   "cell_type": "code",
   "execution_count": null,
   "id": "133372f4-18dd-4930-8d7c-2cfd474a4490",
   "metadata": {},
   "outputs": [],
   "source": [
    "# help(is_all_unique)\n",
    "# dir(is_all_unique)\n",
    "# is_all_unique.__doc__.split(\"\\n\")[1]\n",
    "\n",
    "def get_summary(method):\n",
    "    return method.__doc__.splitlines()[1].strip()"
   ]
  },
  {
   "cell_type": "markdown",
   "id": "3ad9a936-d969-4dea-92b4-0f6088e3e09e",
   "metadata": {},
   "source": [
    "# 1. Arrays and Strings"
   ]
  },
  {
   "cell_type": "markdown",
   "id": "e7a5a9d6-5c94-4f4f-b986-38f3213ef2e6",
   "metadata": {},
   "source": [
    "## 1.1 Is Unique\n",
    "__The Problem:__\n",
    "<br>\n",
    "Implement an algorithm to determine if a string has all unique characters. What if you cannot use additional data structures"
   ]
  },
  {
   "cell_type": "markdown",
   "id": "20475d27-90a3-48e8-ab78-0a14af851a36",
   "metadata": {},
   "source": [
    "__Hints:__\n",
    "<br>\n",
    "- Could a __bit vector__ be useful?\n",
    "- Can you solve it in O(N log N)time? What might a solution like that look like?"
   ]
  },
  {
   "cell_type": "code",
   "execution_count": null,
   "id": "3480f0c1-5fd9-493b-8454-a1b30784db78",
   "metadata": {},
   "outputs": [],
   "source": [
    "def is_all_unique(string: str) -> bool:\n",
    "    \"\"\"\n",
    "    Solution 1. Using hash table.\n",
    "    \n",
    "    Complexity\n",
    "    ----------\n",
    "    time : O(n)\n",
    "    memory : O(n)\n",
    "    \n",
    "    Parameters\n",
    "    ----------\n",
    "    string : str\n",
    "        The string to be analyzed\n",
    "        \n",
    "    Returns\n",
    "    -------\n",
    "    bool\n",
    "        True if all characters in 'string' are unique\n",
    "    \"\"\"\n",
    "    \n",
    "    char_dict = {}\n",
    "    for char in string:\n",
    "        if char in char_dict:\n",
    "            return False\n",
    "        char_dict[char] = True\n",
    "    return True"
   ]
  },
  {
   "cell_type": "code",
   "execution_count": null,
   "id": "b1a8c416-d916-4872-9924-3eabc778d80c",
   "metadata": {},
   "outputs": [],
   "source": [
    "def is_all_unique(string: str) -> bool:\n",
    "    \"\"\"\n",
    "    Solution 2. Do not use additional data structures\n",
    "    \n",
    "    Complexity:\n",
    "        time : O(n^2)\n",
    "        memory : O(1)\n",
    "    \n",
    "    Args:\n",
    "        string (str): The string to be analyzed\n",
    "        \n",
    "    Returns:\n",
    "        bool: True if all characters in 'string' are unique\n",
    "    \"\"\"\n",
    "    \n",
    "    char_dict = {}\n",
    "    str_len = len(string)\n",
    "    \n",
    "    for i in range(str_len):\n",
    "        for j in range(i+1, str_len):\n",
    "            # print(f\"({i},{j})\", end=\"\")\n",
    "            if string[i] == string[j]:\n",
    "                return False\n",
    "    return True"
   ]
  },
  {
   "cell_type": "code",
   "execution_count": null,
   "id": "3a325d07-ef26-44f1-95f7-f2992a3ee49f",
   "metadata": {},
   "outputs": [],
   "source": [
    "print(get_summary(is_all_unique))\n",
    "assert(is_all_unique(\"qwefmkd\") == True)\n",
    "assert(is_all_unique(\"qwefmkqd\") == False)"
   ]
  },
  {
   "cell_type": "markdown",
   "id": "f4a125b8-ccf2-4d78-818e-21a33db387a7",
   "metadata": {},
   "source": [
    "## 1.2 Check Permutation"
   ]
  },
  {
   "cell_type": "markdown",
   "id": "f1ba35cd-6065-49b7-971f-c4545de16ac2",
   "metadata": {},
   "source": [
    "__The Problem:__\n",
    "<br>\n",
    "Given two strings,write a method to decide if one is a permutation of the other."
   ]
  },
  {
   "cell_type": "markdown",
   "id": "0527e99d-42a5-45f5-8bc0-51ba84432dc7",
   "metadata": {},
   "source": [
    "__Solution 1.__"
   ]
  },
  {
   "cell_type": "code",
   "execution_count": null,
   "id": "259aab40-9734-41a4-baa0-e2ba3520314c",
   "metadata": {},
   "outputs": [],
   "source": [
    "def check_perm(a: str, b: str) -> bool:\n",
    "    \"\"\"\n",
    "    Solution 1. Use two hash maps.\n",
    "    \n",
    "    Complexity:\n",
    "        time : O(n)\n",
    "        memory : O(n)\n",
    "    \"\"\"\n",
    "    \n",
    "    hash_map_a = {}\n",
    "    hash_map_b = {}\n",
    "    \n",
    "    for char in a:\n",
    "        hash_map_a[char] = hash_map_a.get(char, 0) + 1\n",
    "              \n",
    "    for char in b:\n",
    "        hash_map_b[char] = hash_map_b.get(char, 0) + 1\n",
    "    \n",
    "    for key in hash_map_a.keys():\n",
    "        if key not in hash_map_b:\n",
    "            return False\n",
    "        elif hash_map_a[key] != hash_map_b[key]:\n",
    "            return False\n",
    "    \n",
    "    return True"
   ]
  },
  {
   "cell_type": "markdown",
   "id": "8f537079-79db-43b4-b73f-dd9653e9a008",
   "metadata": {},
   "source": [
    "__Solution 2.__"
   ]
  },
  {
   "cell_type": "code",
   "execution_count": null,
   "id": "c071e327-1b10-41a5-8ec1-f1dbeb1455cc",
   "metadata": {},
   "outputs": [],
   "source": [
    "from collections import defaultdict\n",
    "\n",
    "def check_perm(a: str, b: str) -> bool:\n",
    "    \"\"\"\n",
    "    Solution 2. Use one hash maps.\n",
    "    \n",
    "    Complexity:\n",
    "        time : O(n)\n",
    "        memory : O(n)\n",
    "    \"\"\"\n",
    "    \n",
    "    hash_map = defaultdict(int)\n",
    "    \n",
    "    for char in a:\n",
    "        hash_map[char] += 1\n",
    "    \n",
    "    for char in b:\n",
    "        if char in hash_map:\n",
    "            hash_map[char] -= 1\n",
    "        else:\n",
    "            # never get here after using defaultdict\n",
    "            return False\n",
    "    \n",
    "    for v in hash_map.values():\n",
    "        if v != 0:\n",
    "            return False\n",
    "    \n",
    "    return True"
   ]
  },
  {
   "cell_type": "markdown",
   "id": "99e7a8c1-3828-4019-860c-1a8f18de101b",
   "metadata": {},
   "source": [
    "__Solution 3.__\n",
    "<br>\n",
    "Will `sorted` allocate additional memory?"
   ]
  },
  {
   "cell_type": "code",
   "execution_count": null,
   "id": "c7f888a9-8d7d-409b-ac9f-88ef4b5c9904",
   "metadata": {},
   "outputs": [],
   "source": [
    "def check_perm(a: str, b: str) -> bool:\n",
    "    \"\"\"\n",
    "    Solution 3. Use sort.\n",
    "    \n",
    "    Complexity:\n",
    "        time : O(n*log(n))\n",
    "        memory : O(1)\n",
    "    \"\"\"\n",
    "\n",
    "    return ''.join(sorted(a)) == ''.join(sorted(b))"
   ]
  },
  {
   "cell_type": "code",
   "execution_count": null,
   "id": "42aefce1-afc7-4912-9a6f-45f8846af63a",
   "metadata": {},
   "outputs": [],
   "source": [
    "check_perm(\"takze\", \"zaetk\")"
   ]
  },
  {
   "cell_type": "code",
   "execution_count": null,
   "id": "2c3c6d48-7115-446d-b6bd-c7394f939c06",
   "metadata": {},
   "outputs": [],
   "source": [
    "print(get_summary(check_perm))\n",
    "assert(check_perm(\"takze\", \"zaetk\") == True)\n",
    "assert(check_perm(\"ttakzzze\", \"zeemk\") == False)\n",
    "assert(check_perm(\"ttakzzze\", \"tzazetkz\") == True)\n",
    "assert(check_perm(\"aattakze\", \"zaetkkaa\") == False)"
   ]
  },
  {
   "cell_type": "markdown",
   "id": "1565f03f-0639-442f-aebd-31ce00e5a731",
   "metadata": {},
   "source": [
    "## 1.3 URLify\n",
    "__The Problem:__\n",
    "<br>\n",
    "Write a method to replace all spaces in a string with '%20'."
   ]
  },
  {
   "cell_type": "code",
   "execution_count": null,
   "id": "272e4307-076e-48f0-93bb-384bc90b1d24",
   "metadata": {},
   "outputs": [],
   "source": [
    "def get_url(string: str) -> str:\n",
    "    \"\"\"\n",
    "    Solution 1. Use additional memory.\n",
    "    \n",
    "    Complexity:\n",
    "        time : O(n)\n",
    "        memory : O(n)\n",
    "    \"\"\"\n",
    "    new_str = []\n",
    "    for char in string:\n",
    "        if char == ' ':\n",
    "            new_str.append('%20')\n",
    "        else:\n",
    "            new_str.append(char)\n",
    "    \n",
    "    return ''.join(new_str)"
   ]
  },
  {
   "cell_type": "code",
   "execution_count": null,
   "id": "54d54434-2a76-47d7-af1e-ea473e491e1f",
   "metadata": {},
   "outputs": [],
   "source": [
    "assert(get_url(\"tak ze\") == \"tak%20ze\")"
   ]
  },
  {
   "cell_type": "markdown",
   "id": "638663a7-93cf-4a36-b160-81597648d398",
   "metadata": {},
   "source": [
    "__Solution 2. In place__\n",
    "\n",
    "__Hints__\n",
    "- Start from backward"
   ]
  },
  {
   "cell_type": "code",
   "execution_count": null,
   "id": "9c673976-da5f-4ab5-a81c-1a8f5ca94fb1",
   "metadata": {},
   "outputs": [],
   "source": [
    "def get_url(string: str) -> str:\n",
    "    \"\"\"\n",
    "    Solution 2. In place.\n",
    "    \n",
    "    Complexity:\n",
    "        time : O(n)\n",
    "        memory : O(n)\n",
    "    \"\"\"\n",
    "    \n",
    "    \n",
    "    \n",
    "    return string"
   ]
  },
  {
   "cell_type": "code",
   "execution_count": null,
   "id": "e104499b-80a8-4838-9eb9-8c1a7f749896",
   "metadata": {},
   "outputs": [],
   "source": [
    "assert(get_url(\"tak ze  \") == \"tak%20ze\")"
   ]
  },
  {
   "cell_type": "markdown",
   "id": "08672608-5eee-45c1-9445-b71e2d0b21f6",
   "metadata": {},
   "source": [
    "# 2. Linked Lists"
   ]
  },
  {
   "cell_type": "code",
   "execution_count": null,
   "id": "a6d6aeb1-f885-4dad-9e7e-29d057dbef3c",
   "metadata": {},
   "outputs": [],
   "source": [
    "from typing import Optional"
   ]
  },
  {
   "cell_type": "code",
   "execution_count": null,
   "id": "a8c6ff4b-38a1-470b-bf1c-1472d8b96553",
   "metadata": {},
   "outputs": [],
   "source": [
    "class ListNode:\n",
    "    \"\"\"\n",
    "    Definition for singly-linked list\n",
    "    \"\"\"\n",
    "    def __init__(self, val=0, next=None):\n",
    "        self.val = val\n",
    "        self.next = next\n",
    "        \n",
    "    def show(self) -> None:\n",
    "        pos = self\n",
    "        while pos != None:\n",
    "            print(pos.val, end=\" \")\n",
    "            pos = pos.next\n",
    "            \n",
    "    def as_list(self) -> list:\n",
    "        pos = self\n",
    "        new_list = []\n",
    "        while pos != None:\n",
    "            new_list.append(pos.val)\n",
    "            pos = pos.next\n",
    "        return new_list\n",
    "    \n",
    "def create_list_from_array(array: list) -> Optional[ListNode]:\n",
    "    if len(array) == 0:\n",
    "        return None\n",
    "    head = ListNode(val=array[0])\n",
    "    pos = head\n",
    "    for i in range(1, len(array)):\n",
    "        pos.next = ListNode(val=array[i])\n",
    "        pos = pos.next\n",
    "    return head"
   ]
  },
  {
   "cell_type": "code",
   "execution_count": null,
   "id": "b2527227-1378-4730-a8a4-014f0a131d4d",
   "metadata": {},
   "outputs": [],
   "source": [
    "class ListNode:\n",
    "    \"\"\"\n",
    "    Definition for doubly-linked list\n",
    "    \"\"\"\n",
    "    def __init__(self, val=0, next=None, prev=None):\n",
    "        self.val = val\n",
    "        self.next = next\n",
    "        self.prev = prev\n",
    "        \n",
    "    def show(self) -> None:\n",
    "        pos = self\n",
    "        while pos != None:\n",
    "            print(pos.val, end=\" \")\n",
    "            pos = pos.next\n",
    "            \n",
    "    def as_list(self) -> list:\n",
    "        pos = self\n",
    "        new_list = []\n",
    "        while pos != None:\n",
    "            new_list.append(pos.val)\n",
    "            pos = pos.next\n",
    "        return new_list\n",
    "    \n",
    "def create_list_from_array(array: list) -> Optional[ListNode]:\n",
    "    if len(array) == 0:\n",
    "        return None\n",
    "    head = ListNode(val=array[0])\n",
    "    pos = head\n",
    "    for i in range(1, len(array)):\n",
    "        pos.next = ListNode(val=array[i])\n",
    "        pos.next.prev = pos\n",
    "        pos = pos.next\n",
    "    return head"
   ]
  },
  {
   "cell_type": "code",
   "execution_count": null,
   "id": "a7bb03c5-b03d-4935-a201-3a7c65277202",
   "metadata": {},
   "outputs": [],
   "source": [
    "head = create_list_from_array([2,3,3,4,5,6])"
   ]
  },
  {
   "cell_type": "code",
   "execution_count": null,
   "id": "0d2353e2-59e2-462e-b246-afe9e183b1ac",
   "metadata": {},
   "outputs": [],
   "source": [
    "head.show()"
   ]
  },
  {
   "cell_type": "code",
   "execution_count": null,
   "id": "68176fc5-1ec2-42d9-912f-c0e078e8c480",
   "metadata": {},
   "outputs": [],
   "source": [
    "def remove(node: ListNode) -> None:\n",
    "    if node.prev is not None:\n",
    "        node.prev.next = node.next\n",
    "    if node.next is not None:\n",
    "        node.next.prev = node.prev"
   ]
  },
  {
   "cell_type": "markdown",
   "id": "589b5e59-5ddc-4c04-be3b-eca3f7480503",
   "metadata": {},
   "source": [
    "## 2.1 Remove dups\n",
    "Write code to remove duplicates from an unsorted linked list.\n",
    "<br>\n",
    "<br>\n",
    "__Заметки__\n",
    "- Нам необязательно было использовать двойной связный список чтобы можно было удалить элемент списка. Можно было во время итерирования по списку сохранять предыдущую ноду."
   ]
  },
  {
   "cell_type": "code",
   "execution_count": null,
   "id": "d6e92914-0401-4278-815e-01b37a55fca4",
   "metadata": {},
   "outputs": [],
   "source": [
    "def remove_dups(head: ListNode) -> None:\n",
    "    \"\"\"\n",
    "    Solution 1. Using hash table.\n",
    "    \n",
    "    Complexity:\n",
    "        time : O(n)\n",
    "        memory : O(n)\n",
    "    \"\"\"\n",
    "    hash_map = {}\n",
    "    pos = head\n",
    "    while pos != None:\n",
    "        if pos.val in hash_map:\n",
    "            remove(pos)   \n",
    "        hash_map[pos.val] = True\n",
    "        pos = pos.next"
   ]
  },
  {
   "cell_type": "code",
   "execution_count": null,
   "id": "85838673-5b48-48a1-ac32-4c41dcedae99",
   "metadata": {},
   "outputs": [],
   "source": [
    "def remove_dups(head: ListNode) -> None:\n",
    "    \"\"\"\n",
    "    Solution 2. Temporary buffer is not allowed.\n",
    "    \n",
    "    We need to use two pointers in that case.\n",
    "    \n",
    "    Complexity:\n",
    "        time : O(n^2)\n",
    "        memory : O(1)\n",
    "    \"\"\"\n",
    "    while head != None:\n",
    "        pos = head.next\n",
    "        while pos != None:\n",
    "            if pos.val == head.val:\n",
    "                remove(pos)\n",
    "            pos = pos.next\n",
    "        head = head.next"
   ]
  },
  {
   "cell_type": "code",
   "execution_count": null,
   "id": "6f3ea2ef-b3c0-4aa6-a5c3-b027741e7821",
   "metadata": {},
   "outputs": [],
   "source": [
    "head = create_list_from_array([2,4,2,3,3,2])\n",
    "remove_dups(head)\n",
    "head.as_list()"
   ]
  },
  {
   "cell_type": "code",
   "execution_count": null,
   "id": "1701aa6d-03e4-4fd8-b0c1-eaf9d9bff15f",
   "metadata": {},
   "outputs": [],
   "source": [
    "head = create_list_from_array([2,2,2,3,2,2])\n",
    "remove_dups(head)\n",
    "head.as_list()"
   ]
  },
  {
   "cell_type": "code",
   "execution_count": null,
   "id": "20793da5-9475-4f17-a230-5677772b1eae",
   "metadata": {},
   "outputs": [],
   "source": [
    "print(get_summary(remove_dups))\n",
    "\n",
    "input_array = [2,3,3,4,5,6,3,6,1,3,4,90,2,3]\n",
    "expected = [2, 3, 4, 5, 6, 1, 90]\n",
    "\n",
    "head = create_list_from_array(input_array)\n",
    "remove_dups(head)\n",
    "\n",
    "assert(head.as_list() == expected)"
   ]
  },
  {
   "cell_type": "markdown",
   "id": "49f4bb50-4dc2-4eca-9b1f-91550df790c4",
   "metadata": {},
   "source": [
    "## 2.2 k-th to last\n",
    "Implement an algorithm to find the kth to last element of a __singly__ linked list.\n",
    "\n",
    "Similar on leetcode: https://leetcode.com/problems/remove-nth-node-from-end-of-list/\n",
    "\n",
    "__Hints__\n",
    "- Try implementing it recursively. If you could find the (K-1)th to last element, can you find the Kth element?\n",
    "\n",
    "This is the best solution:\n",
    "- Can you do it iteratively? Imagine if you had two pointers pointing to adjacent nodes and they were moving at the same speed through the linked list. When one hits the end of the linked list, where will the other be?"
   ]
  },
  {
   "cell_type": "code",
   "execution_count": null,
   "id": "37f8c2e1-0d5a-4d68-8282-fb3202c6133f",
   "metadata": {},
   "outputs": [],
   "source": [
    "print(get_summary(ListNode))"
   ]
  },
  {
   "cell_type": "markdown",
   "id": "975f66f8-95d2-4260-8d6a-0dd9d5644be4",
   "metadata": {},
   "source": [
    "__Solution 1__"
   ]
  },
  {
   "cell_type": "code",
   "execution_count": null,
   "id": "ffb6a661-6ee3-43e8-8740-135ca06441cf",
   "metadata": {},
   "outputs": [],
   "source": [
    "def list_len(head: ListNode) -> int:\n",
    "    len = 0\n",
    "    while head is not None:\n",
    "        len += 1\n",
    "        head = head.next\n",
    "    return len"
   ]
  },
  {
   "cell_type": "code",
   "execution_count": null,
   "id": "86eb1789-ae38-44de-966d-19108c6f38d1",
   "metadata": {},
   "outputs": [],
   "source": [
    "head = create_list_from_array([2,3,4,5])\n",
    "list_len(head)"
   ]
  },
  {
   "cell_type": "code",
   "execution_count": null,
   "id": "9d8a9449-c77b-4b74-86e8-e67146c039ab",
   "metadata": {},
   "outputs": [],
   "source": [
    "def k_to_last(head: ListNode, k: int) -> Optional[int]:\n",
    "    \"\"\"\n",
    "    Solution 1.\n",
    "    \n",
    "    Complexity:\n",
    "        time : O(n)\n",
    "        memory : O(1)\n",
    "    \"\"\"\n",
    "    len = list_len(head)\n",
    "    if k > len:\n",
    "        return None\n",
    "    i=0\n",
    "    while i != len-k:\n",
    "        head = head.next\n",
    "        i += 1\n",
    "    return head.val"
   ]
  },
  {
   "cell_type": "markdown",
   "id": "f353cdbe-2600-423f-aee8-6a38ff45360a",
   "metadata": {},
   "source": [
    "__Solution 2__\n",
    "<br>\n",
    "Implementing it recursively\n",
    "<br>\n",
    "Can we compare references in python?"
   ]
  },
  {
   "cell_type": "code",
   "execution_count": null,
   "id": "5cae19d9-ce49-4a22-ba5a-7c0bcac4eab7",
   "metadata": {},
   "outputs": [],
   "source": [
    "head_1 = ListNode(2)\n",
    "head_2 = ListNode(3)\n",
    "head_3 = head_1\n",
    "head_1 == head_3"
   ]
  },
  {
   "cell_type": "code",
   "execution_count": null,
   "id": "6228eeae-37ab-4fa6-9bb1-0d7075ef4f49",
   "metadata": {},
   "outputs": [],
   "source": [
    "def k_to_last(head: ListNode, k: int) -> Optional[int]:\n",
    "    \"\"\"\n",
    "    Solution 2. Implementing it recursively. Main method.\n",
    "    \n",
    "    Complexity:\n",
    "        time : O(n^2) !!!\n",
    "        memory : O(n)\n",
    "    \"\"\"\n",
    "    pos = head\n",
    "    len = 1\n",
    "    while pos.next is not None:\n",
    "        len += 1\n",
    "        pos = pos.next\n",
    "        \n",
    "    if k > len:\n",
    "        return None\n",
    "    \n",
    "    return k_to_last_helper(head, k, pos, 1)\n",
    "    \n",
    "\n",
    "def k_to_last_helper(head: ListNode, k: int, node: ListNode, n: int) -> Optional[int]:\n",
    "    \"\"\"\n",
    "    Solution 2. Implementing it recursively. Helper method.\n",
    "    \n",
    "    Args:\n",
    "        head (ListNode): the head of the list\n",
    "        k (int): needed index to the last\n",
    "        node (ListNode): the current node to the last\n",
    "        n (int): the index of current node\n",
    "        \n",
    "    We start with n == len and `node` is the last node of the list.\n",
    "    When n is equal k we are done.\n",
    "    \"\"\"\n",
    "    \n",
    "    if n == k:\n",
    "        return node.val\n",
    "    else:\n",
    "        pos = head\n",
    "        while pos.next != node:\n",
    "            pos = pos.next   \n",
    "        return k_to_last_helper(head, k, pos, n+1)"
   ]
  },
  {
   "cell_type": "markdown",
   "id": "a9ad06b1-94f2-4098-b6e2-904091f5a41d",
   "metadata": {},
   "source": [
    "__Solution 3__\n",
    "<br>\n",
    "__Recursive solution 2__\n",
    "<br>\n",
    "This algorithm recurses through the linked list. When it hits the end, the method passes back a counter set to 0. Each parent call adds 1 to this counter. When the counter equals k, we know we have reached thekth to last element of the linked list."
   ]
  },
  {
   "cell_type": "code",
   "execution_count": null,
   "id": "ef3039c6-fe9d-4949-bd97-c6e718704a7e",
   "metadata": {},
   "outputs": [],
   "source": [
    "def k_to_last(head: ListNode, k: int) -> Optional[int]:\n",
    "    \"\"\"\n",
    "    Solution 3. Implementing it recursively 2.\n",
    "    \n",
    "    В любом случае такое решение \"вхолостую\" прокрутит весь список обратно в начало.\n",
    "    После того как index == k, передаваться будет всегда один и тот же указатель на\n",
    "    правильную ноду.\n",
    "    \n",
    "    \n",
    "    \"\"\"\n",
    "    \n",
    "    node, index = k_to_last_helper(head, k)\n",
    "    if node is not None:\n",
    "        return node.val\n",
    "    return None\n",
    "    \n",
    "\n",
    "def k_to_last_helper(head: ListNode, k: int) -> tuple[ListNode, int]:\n",
    "    \n",
    "    if head == None:\n",
    "        return None, 0   \n",
    "    \n",
    "    node, index = k_to_last_helper(head.next, k)\n",
    "    index += 1\n",
    "    \n",
    "    if index == k:\n",
    "        return head, index \n",
    "    else:\n",
    "        return node, index"
   ]
  },
  {
   "cell_type": "code",
   "execution_count": null,
   "id": "c8ccf1a7-0e82-43e5-903f-d26b34957c67",
   "metadata": {},
   "outputs": [],
   "source": [
    "head = create_list_from_array([1,2,3,4,5,6])\n",
    "k_to_last(head, 7)"
   ]
  },
  {
   "cell_type": "code",
   "execution_count": null,
   "id": "aaa86421-3d5d-41e5-9927-82ad940d9d00",
   "metadata": {},
   "outputs": [],
   "source": [
    "print(get_summary(k_to_last))\n",
    "# 1\n",
    "head = create_list_from_array([2,3,3,4])\n",
    "assert(k_to_last(head, 5) == None)\n",
    "\n",
    "# 2\n",
    "head = create_list_from_array([2,3,3,4])\n",
    "assert(k_to_last(head, 4) == 2)\n",
    "\n",
    "#3\n",
    "head = create_list_from_array([2,3,3,4,5,6,3,6,1,3,4,90,2,3])\n",
    "assert(k_to_last(head, 3) == 90)"
   ]
  },
  {
   "cell_type": "code",
   "execution_count": null,
   "id": "d51399a1-5ee0-4a41-b12c-9d8b0b700565",
   "metadata": {},
   "outputs": [],
   "source": []
  }
 ],
 "metadata": {
  "kernelspec": {
   "display_name": "Python 3 (ipykernel)",
   "language": "python",
   "name": "python3"
  },
  "language_info": {
   "codemirror_mode": {
    "name": "ipython",
    "version": 3
   },
   "file_extension": ".py",
   "mimetype": "text/x-python",
   "name": "python",
   "nbconvert_exporter": "python",
   "pygments_lexer": "ipython3",
   "version": "3.11.4"
  }
 },
 "nbformat": 4,
 "nbformat_minor": 5
}
