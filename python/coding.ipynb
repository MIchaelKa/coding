{
 "cells": [
  {
   "cell_type": "markdown",
   "id": "d6a9d948-72ed-40fe-a6ff-cf75dc7a29ba",
   "metadata": {},
   "source": [
    "# Broker"
   ]
  },
  {
   "cell_type": "code",
   "execution_count": null,
   "id": "baf20716-5c8f-4ff6-8f16-b9bbd9ef5b82",
   "metadata": {},
   "outputs": [],
   "source": [
    "# Дан массив, в котором i-й элемент обозначает цену акции в i-й день торгов.\n",
    "# Вам дано совершить только одну транзакцию: купить и только затем продать акцию.\n",
    "# Найдите максимальную возможную прибыль такой транзакции.\n",
    "# \n",
    "# Примеры:\n",
    "# Input: [7,1,5,3,6,4]\n",
    "# Output: 5\n",
    "# \n",
    "# Input: [7,6,4,3,1]\n",
    "# Output: 0\n",
    "# Нет прибыли, ответ 0\n",
    "# "
   ]
  },
  {
   "cell_type": "code",
   "execution_count": null,
   "id": "81402a94-c250-4cb3-a134-40de720e9287",
   "metadata": {},
   "outputs": [],
   "source": [
    "def solution(x):\n",
    "    len_x = len(x)\n",
    "    max_t = 0\n",
    "\n",
    "    for i in range(len_x):\n",
    "        for j in range(i+1, len_x):\n",
    "            t = x[j] - x[i]\n",
    "            if t > max_t:\n",
    "                max_t = t\n",
    "                \n",
    "    return max_t"
   ]
  },
  {
   "cell_type": "code",
   "execution_count": null,
   "id": "10270b5b-40fc-49c3-b41b-985ce1bc127a",
   "metadata": {},
   "outputs": [],
   "source": [
    "def solution(x):\n",
    "    len_x = len(x)\n",
    "    min_t = 999 # int_max\n",
    "    diff = 0\n",
    "\n",
    "    for i in range(len_x):\n",
    "        min_t = min(min_t, x[i])\n",
    "        diff = max(diff, x[i] - min_t)\n",
    "                \n",
    "    return diff"
   ]
  },
  {
   "cell_type": "code",
   "execution_count": null,
   "id": "07471d2c-1a0f-402e-96db-d313653b3f1d",
   "metadata": {},
   "outputs": [],
   "source": [
    "x = [7,1,5,3,6,4]\n",
    "solution(x)"
   ]
  },
  {
   "cell_type": "markdown",
   "id": "2914cd73-8404-44fd-92a1-dea248f28f18",
   "metadata": {},
   "source": [
    "# Test"
   ]
  },
  {
   "cell_type": "code",
   "execution_count": null,
   "id": "6b205bf6-4305-42ab-9135-c6aa0fcbeec8",
   "metadata": {},
   "outputs": [],
   "source": [
    "edges = [[] for _ in range(5)]\n",
    "# edges = [[]] * 5 # not works\n",
    "edges"
   ]
  },
  {
   "cell_type": "code",
   "execution_count": null,
   "id": "b983e6c3-9e7a-43bd-b454-0b8e09e8a642",
   "metadata": {},
   "outputs": [],
   "source": [
    "edges[1].append(2)\n",
    "edges"
   ]
  },
  {
   "cell_type": "code",
   "execution_count": null,
   "id": "643c0c02-918d-4c35-87ef-0a228f4ad25f",
   "metadata": {},
   "outputs": [],
   "source": []
  }
 ],
 "metadata": {
  "kernelspec": {
   "display_name": "Python 3 (ipykernel)",
   "language": "python",
   "name": "python3"
  },
  "language_info": {
   "codemirror_mode": {
    "name": "ipython",
    "version": 3
   },
   "file_extension": ".py",
   "mimetype": "text/x-python",
   "name": "python",
   "nbconvert_exporter": "python",
   "pygments_lexer": "ipython3",
   "version": "3.8.9"
  }
 },
 "nbformat": 4,
 "nbformat_minor": 5
}
