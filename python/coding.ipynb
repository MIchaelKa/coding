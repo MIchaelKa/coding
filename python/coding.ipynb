{
 "cells": [
  {
   "cell_type": "markdown",
   "id": "d6a9d948-72ed-40fe-a6ff-cf75dc7a29ba",
   "metadata": {},
   "source": [
    "# Broker"
   ]
  },
  {
   "cell_type": "code",
   "execution_count": 1,
   "id": "baf20716-5c8f-4ff6-8f16-b9bbd9ef5b82",
   "metadata": {},
   "outputs": [],
   "source": [
    "# Дан массив, в котором i-й элемент обозначает цену акции в i-й день торгов.\n",
    "# Вам дано совершить только одну транзакцию: купить и только затем продать акцию.\n",
    "# Найдите максимальную возможную прибыль такой транзакции.\n",
    "# \n",
    "# Примеры:\n",
    "# Input: [7,1,5,3,6,4]\n",
    "# Output: 5\n",
    "# \n",
    "# Input: [7,6,4,3,1]\n",
    "# Output: 0\n",
    "# Нет прибыли, ответ 0\n",
    "# "
   ]
  },
  {
   "cell_type": "code",
   "execution_count": 2,
   "id": "81402a94-c250-4cb3-a134-40de720e9287",
   "metadata": {},
   "outputs": [],
   "source": [
    "def solution(x):\n",
    "    len_x = len(x)\n",
    "    max_t = 0\n",
    "\n",
    "    for i in range(len_x):\n",
    "        for j in range(i+1, len_x):\n",
    "            t = x[j] - x[i]\n",
    "            if t > max_t:\n",
    "                max_t = t\n",
    "                \n",
    "    return max_t"
   ]
  },
  {
   "cell_type": "code",
   "execution_count": 3,
   "id": "10270b5b-40fc-49c3-b41b-985ce1bc127a",
   "metadata": {},
   "outputs": [],
   "source": [
    "def solution(x):\n",
    "    len_x = len(x)\n",
    "    min_t = 999 # int_max\n",
    "    diff = 0\n",
    "\n",
    "    for i in range(len_x):\n",
    "        min_t = min(min_t, x[i])\n",
    "        diff = max(diff, x[i] - min_t)\n",
    "                \n",
    "    return diff"
   ]
  },
  {
   "cell_type": "code",
   "execution_count": 4,
   "id": "07471d2c-1a0f-402e-96db-d313653b3f1d",
   "metadata": {},
   "outputs": [
    {
     "data": {
      "text/plain": [
       "5"
      ]
     },
     "execution_count": 4,
     "metadata": {},
     "output_type": "execute_result"
    }
   ],
   "source": [
    "x = [7,1,5,3,6,4]\n",
    "solution(x)"
   ]
  },
  {
   "cell_type": "code",
   "execution_count": null,
   "id": "6b205bf6-4305-42ab-9135-c6aa0fcbeec8",
   "metadata": {},
   "outputs": [],
   "source": []
  }
 ],
 "metadata": {
  "kernelspec": {
   "display_name": "Python 3 (ipykernel)",
   "language": "python",
   "name": "python3"
  },
  "language_info": {
   "codemirror_mode": {
    "name": "ipython",
    "version": 3
   },
   "file_extension": ".py",
   "mimetype": "text/x-python",
   "name": "python",
   "nbconvert_exporter": "python",
   "pygments_lexer": "ipython3",
   "version": "3.8.9"
  }
 },
 "nbformat": 4,
 "nbformat_minor": 5
}
