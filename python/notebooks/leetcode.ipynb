{
 "cells": [
  {
   "cell_type": "code",
   "execution_count": null,
   "id": "sacred-nature",
   "metadata": {},
   "outputs": [],
   "source": [
    "def print_table(table):\n",
    "    for row in table:\n",
    "        print(row)"
   ]
  },
  {
   "cell_type": "code",
   "execution_count": null,
   "id": "8d46c4b5-d68a-457f-ade8-6ba10d510e67",
   "metadata": {},
   "outputs": [],
   "source": [
    "# Some more magic so that the notebook will reload external python modules;\n",
    "# see http://stackoverflow.com/questions/1907993/autoreload-of-modules-in-ipython\n",
    "%load_ext autoreload\n",
    "%autoreload 2"
   ]
  },
  {
   "cell_type": "markdown",
   "id": "simplified-actor",
   "metadata": {},
   "source": [
    "# 1. Two sum"
   ]
  },
  {
   "cell_type": "code",
   "execution_count": null,
   "id": "opposite-velvet",
   "metadata": {},
   "outputs": [],
   "source": [
    "x = [8,3,2,7,11,15]"
   ]
  },
  {
   "cell_type": "code",
   "execution_count": null,
   "id": "toxic-theorem",
   "metadata": {},
   "outputs": [],
   "source": [
    "i = sorted(range(len(x)), key=lambda k: x[k])\n",
    "i"
   ]
  },
  {
   "cell_type": "code",
   "execution_count": null,
   "id": "empty-humidity",
   "metadata": {},
   "outputs": [],
   "source": [
    "x.index(2)"
   ]
  },
  {
   "cell_type": "code",
   "execution_count": null,
   "id": "5e02f6d8-42f6-49ad-b1aa-4b548d3be32a",
   "metadata": {},
   "outputs": [],
   "source": [
    "from leetcode._0001_two_sum import *"
   ]
  },
  {
   "cell_type": "code",
   "execution_count": null,
   "id": "accepted-slave",
   "metadata": {},
   "outputs": [],
   "source": [
    "x = [8,3,2,7,11,15]\n",
    "twoSum_brute(x, 9)"
   ]
  },
  {
   "cell_type": "code",
   "execution_count": null,
   "id": "prerequisite-permission",
   "metadata": {},
   "outputs": [],
   "source": [
    "x = [8,3,2,7,11,15]\n",
    "twoSum_v4(x, 10)"
   ]
  },
  {
   "cell_type": "markdown",
   "id": "signal-opinion",
   "metadata": {
    "jp-MarkdownHeadingCollapsed": true,
    "tags": []
   },
   "source": [
    "# 3. Longest Substring Without Repeating Characters"
   ]
  },
  {
   "cell_type": "code",
   "execution_count": null,
   "id": "mature-tyler",
   "metadata": {},
   "outputs": [],
   "source": [
    "def lengthOfLongestSubstring(s: str) -> int:\n",
    "    hashmap = {}\n",
    "    max_len = 0\n",
    "    current_pos = 0\n",
    "\n",
    "    for i, c in enumerate(s):\n",
    "        \n",
    "        if c in hashmap:\n",
    "            current_pos = hashmap[c]\n",
    "            print(current_pos)\n",
    "            hashmap_len = len(hashmap)\n",
    "            if hashmap_len > max_len:\n",
    "                max_len = hashmap_len\n",
    "            hashmap.clear()\n",
    "        \n",
    "        hashmap[c] = i\n",
    "\n",
    "        \n",
    "    return max(max_len, len(hashmap))"
   ]
  },
  {
   "cell_type": "code",
   "execution_count": null,
   "id": "considered-direction",
   "metadata": {},
   "outputs": [],
   "source": [
    "lengthOfLongestSubstring(\"abcabcbb\")"
   ]
  },
  {
   "cell_type": "code",
   "execution_count": null,
   "id": "correct-brush",
   "metadata": {},
   "outputs": [],
   "source": [
    "def lengthOfLongestSubstring(s: str) -> int:\n",
    "    hashmap = {}\n",
    "    max_len = 0\n",
    "    i = 0\n",
    "    \n",
    "    \n",
    "    while i < len(s):      \n",
    "        c = s[i]      \n",
    "        if c in hashmap:\n",
    "            hashmap_len = len(hashmap)\n",
    "            if hashmap_len > max_len:\n",
    "                max_len = hashmap_len\n",
    "            \n",
    "            i = hashmap[c]\n",
    "            hashmap.clear()\n",
    "        else:     \n",
    "            hashmap[c] = i\n",
    "            \n",
    "        i += 1\n",
    "        \n",
    "    return max(max_len, len(hashmap))"
   ]
  },
  {
   "cell_type": "code",
   "execution_count": null,
   "id": "maritime-cookie",
   "metadata": {},
   "outputs": [],
   "source": [
    "lengthOfLongestSubstring(\"advdfb\")"
   ]
  },
  {
   "cell_type": "code",
   "execution_count": null,
   "id": "insured-calibration",
   "metadata": {},
   "outputs": [],
   "source": [
    "def lengthOfLongestSubstring(s: str) -> int:\n",
    "    hashmap = {}\n",
    "    cur_s = []\n",
    "    \n",
    "    global_pos = 0\n",
    "    max_len = 0\n",
    "\n",
    "    for i, c in enumerate(s):        \n",
    "        if c in hashmap:              \n",
    "            hashmap_len = len(hashmap)\n",
    "            if hashmap_len > max_len:\n",
    "                max_len = hashmap_len\n",
    "\n",
    "            cur_pos = hashmap[c] + 1\n",
    "            global_pos += cur_pos\n",
    "            print(cur_pos, global_pos)\n",
    "            cur_s = cur_s[cur_pos:]             \n",
    "            hashmap = dict(zip(cur_s, list(range(len(cur_s)))))\n",
    "            print(hashmap)\n",
    "            print(cur_s)\n",
    "            print(\"\")\n",
    "\n",
    "        hashmap[c] = i - global_pos\n",
    "        cur_s.append(c)\n",
    "\n",
    "    return max(max_len, len(hashmap))"
   ]
  },
  {
   "cell_type": "code",
   "execution_count": null,
   "id": "tough-billy",
   "metadata": {},
   "outputs": [],
   "source": [
    "# lengthOfLongestSubstring(\"adrvdfby\")\n",
    "lengthOfLongestSubstring(\"bbtablud\")\n",
    "# lengthOfLongestSubstring(\"wsslpluuwekuaxt\")"
   ]
  },
  {
   "cell_type": "markdown",
   "id": "fallen-posting",
   "metadata": {
    "jp-MarkdownHeadingCollapsed": true,
    "tags": []
   },
   "source": [
    "# 5. Longest Palindromic Substring\n",
    "_0005_longest_palindromic_substr"
   ]
  },
  {
   "cell_type": "code",
   "execution_count": null,
   "id": "normal-arthritis",
   "metadata": {},
   "outputs": [],
   "source": [
    "def isPalindrome(s: str) -> bool:   \n",
    "    len_s = len(s)   \n",
    "    for i in range(len_s // 2):\n",
    "        if s[i] != s[len_s-i-1]:\n",
    "            return False\n",
    "    return True\n",
    "    "
   ]
  },
  {
   "cell_type": "code",
   "execution_count": null,
   "id": "formal-tumor",
   "metadata": {},
   "outputs": [],
   "source": [
    "isPalindrome(\"a\")"
   ]
  },
  {
   "cell_type": "code",
   "execution_count": null,
   "id": "missing-version",
   "metadata": {},
   "outputs": [],
   "source": [
    "def longestPalindrome(s: str) -> str:\n",
    "        \n",
    "    if isPalindrome(s) or len(s) == 1:\n",
    "        return s\n",
    "    else:\n",
    "        left = longestPalindrome(s[:-1])\n",
    "        right = longestPalindrome(s[1:])\n",
    "        \n",
    "        if len(left) > len(right):\n",
    "            return left\n",
    "        else:\n",
    "            return right"
   ]
  },
  {
   "cell_type": "code",
   "execution_count": null,
   "id": "ranking-oasis",
   "metadata": {},
   "outputs": [],
   "source": [
    "def longestPalindrome(s: str) -> str:\n",
    "        \n",
    "    if isPalindrome(s) or len(s) == 0:\n",
    "        return s\n",
    "    else:\n",
    "        left = s[:-1]\n",
    "        right = s[1:]\n",
    "        \n",
    "        if isPalindrome(left):\n",
    "            return left\n",
    "        \n",
    "        if isPalindrome(right):\n",
    "            return right\n",
    "        \n",
    "        left = longestPalindrome(left)\n",
    "        right = longestPalindrome(right)\n",
    "        \n",
    "        if len(left) > len(right):\n",
    "            return left\n",
    "        else:\n",
    "            return right  "
   ]
  },
  {
   "cell_type": "code",
   "execution_count": null,
   "id": "exempt-reverse",
   "metadata": {},
   "outputs": [],
   "source": [
    "def longestPalindrome(s: str) -> str:\n",
    "    \n",
    "    max_len = 0\n",
    "    max_left = 0\n",
    "    max_right = 0\n",
    "    \n",
    "    left = 0\n",
    "    right = 1\n",
    "    \n",
    "    len_s = len(s)\n",
    "    \n",
    "    ltr = True\n",
    "    \n",
    "    while left < len(s):\n",
    "        \n",
    "        cur_s = s[left:right]\n",
    "#         print(cur_s)\n",
    "        \n",
    "        if isPalindrome(cur_s):          \n",
    "            cur_s_len = len(cur_s)   \n",
    "            if cur_s_len > max_len:\n",
    "                max_len = cur_s_len\n",
    "                max_left = left\n",
    "                max_right = right\n",
    "        \n",
    "        if ltr:\n",
    "#             if len_s - right > cur_s_len // 2:\n",
    "            if right < len_s:\n",
    "                right += 1\n",
    "            else:\n",
    "                left += 1\n",
    "                ltr = False\n",
    "        else:\n",
    "            if right - left > 1:\n",
    "                right -= 1\n",
    "            else:\n",
    "                left += 1\n",
    "                ltr = True\n",
    "                \n",
    "                \n",
    "    \n",
    "    return s[max_left:max_right]"
   ]
  },
  {
   "cell_type": "code",
   "execution_count": null,
   "id": "criminal-watch",
   "metadata": {},
   "outputs": [],
   "source": [
    "def longestPalindrome(s: str) -> str:\n",
    "    \n",
    "    max_len = 1\n",
    "    left = 0\n",
    "    right = 0\n",
    "    \n",
    "    len_s = len(s)\n",
    "    \n",
    "#     table = [[1] + [0]*(i-1) for i in range(len_s, 0, -1)]\n",
    "    table = [[0]*len_s for i in range(len_s)]\n",
    "    \n",
    "    for i in range(len_s):\n",
    "        table[i][i] = 1\n",
    "            \n",
    "    for i in range(len_s-1):\n",
    "        if s[i]==s[i+1]:\n",
    "            table[i][i+1] = 1\n",
    "            \n",
    "    for i in range(2,len_s):\n",
    "        for j in range(0, len_s-i):\n",
    "            table[j][i+j] = int(table[j+1][i+j-1] and s[j]==s[i+j])\n",
    "\n",
    "            \n",
    "    print_table(table)\n",
    "            \n",
    "    for j in range(len_s, -1, -1):\n",
    "#         print(j)\n",
    "        for i in range(0, len_s-j):\n",
    "#             print(i,i+j)\n",
    "            if table[i][i+j] == 1:\n",
    "                return s[i:i+j+1]\n",
    "\n",
    "\n",
    "    return s[left:right+1]"
   ]
  },
  {
   "cell_type": "code",
   "execution_count": null,
   "id": "nutritional-purple",
   "metadata": {},
   "outputs": [],
   "source": [
    "def longestPalindrome(s: str) -> str:\n",
    "    \n",
    "    max_len = 1\n",
    "    left = 0\n",
    "    right = 0\n",
    "    \n",
    "    len_s = len(s)\n",
    "\n",
    "    table = [[0]*len_s for i in range(len_s)]\n",
    "    \n",
    "    for i in range(len_s):\n",
    "        table[i][i] = 1\n",
    "            \n",
    "    for i in range(len_s-1):\n",
    "        if s[i]==s[i+1]:\n",
    "            table[i][i+1] = 1\n",
    "            \n",
    "            if max_len < 2:\n",
    "                left = i\n",
    "                right = i+1\n",
    "                max_len = 2\n",
    "                \n",
    "            \n",
    "    for i in range(2,len_s):\n",
    "        for j in range(0, len_s-i):            \n",
    "            if table[j+1][i+j-1] and s[j]==s[i+j]:\n",
    "                table[j][i+j] = 1\n",
    "                \n",
    "                if i+1 > max_len:\n",
    "                    max_len = i+1\n",
    "                    left = j\n",
    "                    right = i+j\n",
    "            \n",
    "#     print_table(table)\n",
    "\n",
    "\n",
    "    return s[left:right+1]"
   ]
  },
  {
   "cell_type": "code",
   "execution_count": null,
   "id": "municipal-antigua",
   "metadata": {},
   "outputs": [],
   "source": [
    "longestPalindrome(\"aabac\")"
   ]
  },
  {
   "cell_type": "code",
   "execution_count": null,
   "id": "arranged-sweden",
   "metadata": {},
   "outputs": [],
   "source": [
    "assert(longestPalindrome(\"wqeqwggwqeqweqabbdbbaqsdf\") == 'wqeqwggwqeqw')\n",
    "assert(longestPalindrome(\"aabarfttgtte\") == 'ttgtt')\n",
    "assert(longestPalindrome(\"aabac\") == 'aba')\n",
    "assert(longestPalindrome(\"a\") == 'a')"
   ]
  },
  {
   "cell_type": "markdown",
   "id": "unexpected-poster",
   "metadata": {},
   "source": [
    "## TODO\n",
    "- Fix memory usage:\n",
    "\n",
    "$O(n^2)$ to $O(n)$"
   ]
  },
  {
   "cell_type": "markdown",
   "id": "catholic-ridge",
   "metadata": {},
   "source": [
    "# 9. Palindrome Number"
   ]
  },
  {
   "cell_type": "code",
   "execution_count": null,
   "id": "ethical-disney",
   "metadata": {},
   "outputs": [],
   "source": [
    "def isPalindrome(x: int) -> bool:       \n",
    "    s = str(x)\n",
    "    len_s = len(s)\n",
    "    \n",
    "    for i in range(1, len_s//2 + 1):      \n",
    "        if s[i-1] != s[-i]:\n",
    "            return False\n",
    "    \n",
    "    return True"
   ]
  },
  {
   "cell_type": "code",
   "execution_count": null,
   "id": "bright-offering",
   "metadata": {},
   "outputs": [],
   "source": [
    "isPalindrome(12321)"
   ]
  },
  {
   "cell_type": "markdown",
   "id": "comparative-signature",
   "metadata": {
    "jp-MarkdownHeadingCollapsed": true
   },
   "source": [
    "# 14. Longest Common Prefix"
   ]
  },
  {
   "cell_type": "code",
   "execution_count": null,
   "id": "nominated-giving",
   "metadata": {},
   "outputs": [],
   "source": [
    "def longestCommonPrefix(strs: List[str]) -> str:\n",
    "        \n",
    "    min_len = 200\n",
    "\n",
    "    for s in strs:\n",
    "        if len(s) < min_len:\n",
    "            min_len = len(s)\n",
    "            \n",
    "    common_index = 0\n",
    "            \n",
    "    for i in range(min_len):\n",
    "        c = strs[0][i]\n",
    "        for j in range(1, len(strs)):\n",
    "            if strs[j][i] != c:\n",
    "                return strs[0][:common_index]     \n",
    "        common_index += 1 \n",
    "            \n",
    "    return strs[0][:common_index]"
   ]
  },
  {
   "cell_type": "code",
   "execution_count": null,
   "id": "certified-mobility",
   "metadata": {},
   "outputs": [],
   "source": [
    "strs = [\"flower\",\"flow\",\"flight\"]\n",
    "# strs = [\"abc\",\"qabc\",\"abcd\"]\n",
    "longestCommonPrefix(strs)"
   ]
  },
  {
   "cell_type": "markdown",
   "id": "unsigned-sociology",
   "metadata": {
    "jp-MarkdownHeadingCollapsed": true,
    "tags": []
   },
   "source": [
    "# 45. Jump Game II"
   ]
  },
  {
   "cell_type": "markdown",
   "id": "early-publication",
   "metadata": {},
   "source": [
    "## Iterative"
   ]
  },
  {
   "cell_type": "code",
   "execution_count": null,
   "id": "otherwise-story",
   "metadata": {},
   "outputs": [],
   "source": [
    "def jump(nums: List[int]) -> int:   \n",
    "    len_nums = len(nums)\n",
    "    jumps = [0] * len_nums\n",
    "    \n",
    "    if len_nums > 1:\n",
    "        jumps[1] = 1\n",
    "       \n",
    "    for i in range(2, len_nums):     \n",
    "        min_jump = len_nums      \n",
    "        for j in range(0, i):\n",
    "            # if possible to jump\n",
    "            if nums[j] >= i-j and jumps[j] < min_jump:\n",
    "                min_jump = jumps[j]\n",
    "        \n",
    "        jumps[i] = min_jump + 1\n",
    "    \n",
    "    return jumps[-1]"
   ]
  },
  {
   "cell_type": "markdown",
   "id": "indirect-appointment",
   "metadata": {},
   "source": [
    "## Simple recursion"
   ]
  },
  {
   "cell_type": "code",
   "execution_count": null,
   "id": "underlying-saver",
   "metadata": {},
   "outputs": [],
   "source": [
    "def jump(nums: List[int]) -> int:  \n",
    "    result = jump_r(nums, 0)   \n",
    "    return result"
   ]
  },
  {
   "cell_type": "code",
   "execution_count": null,
   "id": "round-distinction",
   "metadata": {},
   "outputs": [],
   "source": [
    "def jump_r(nums: List[int], index) -> int:\n",
    "    \n",
    "    len_nums = len(nums)   \n",
    "    if index >= len_nums-1:\n",
    "        return 0\n",
    "    \n",
    "    min_jump = len_nums # max possible value\n",
    "    \n",
    "    for i in range(1, nums[index]+1):\n",
    "        min_jump = min(min_jump, 1+jump_r(nums, index+i))\n",
    "        \n",
    "    return min_jump  "
   ]
  },
  {
   "cell_type": "markdown",
   "id": "express-execution",
   "metadata": {},
   "source": [
    "## DP: recursion+memoization"
   ]
  },
  {
   "cell_type": "code",
   "execution_count": null,
   "id": "together-housing",
   "metadata": {},
   "outputs": [],
   "source": [
    "def jump(nums: List[int]) -> int:\n",
    "    len_nums = len(nums)\n",
    "    jumps = [len_nums] * len_nums\n",
    "    \n",
    "    result = jump_r(nums, jumps, 0)\n",
    "    return result"
   ]
  },
  {
   "cell_type": "code",
   "execution_count": null,
   "id": "fiscal-diabetes",
   "metadata": {},
   "outputs": [],
   "source": [
    "def jump_r(nums: List[int], jumps: List[int], index: int) -> int:\n",
    "    len_nums = len(nums)\n",
    "    \n",
    "    if index >= len_nums-1:\n",
    "        return 0\n",
    "    \n",
    "    if jumps[index] < len_nums:\n",
    "        return jumps[index]\n",
    "  \n",
    "    min_jump = len_nums    \n",
    "    for i in range(1, nums[index]+1):\n",
    "        min_jump = min(min_jump, 1+jump_r(nums, jumps, index+i))\n",
    "        \n",
    "    jumps[index] = min_jump\n",
    "        \n",
    "    return min_jump"
   ]
  },
  {
   "cell_type": "markdown",
   "id": "hungry-kennedy",
   "metadata": {},
   "source": [
    "## Bottom-up"
   ]
  },
  {
   "cell_type": "code",
   "execution_count": null,
   "id": "vanilla-increase",
   "metadata": {},
   "outputs": [],
   "source": [
    "def jump(nums: List[int]) -> int:\n",
    "    cache = [len(nums)]*len(nums)\n",
    "    cache[0] = 0\n",
    "    \n",
    "    for i in range(len(nums)):\n",
    "        for j in range(1, nums[i]+1):\n",
    "            if i+j < len(nums):\n",
    "                cache[i+j] = min(cache[i+j], cache[i] + 1)\n",
    "   \n",
    "    return cache[-1]"
   ]
  },
  {
   "cell_type": "code",
   "execution_count": null,
   "id": "elegant-softball",
   "metadata": {},
   "outputs": [],
   "source": [
    "nums = [2,3,1,1,4]\n",
    "jump(nums)"
   ]
  },
  {
   "cell_type": "code",
   "execution_count": null,
   "id": "separate-continuity",
   "metadata": {},
   "outputs": [],
   "source": [
    "assert(jump([2,3,1,1,4]) == 2)\n",
    "assert(jump([1,3,1,1,1,4]) == 3)\n",
    "assert(jump([4]) == 0)"
   ]
  },
  {
   "cell_type": "markdown",
   "id": "synthetic-killer",
   "metadata": {
    "jp-MarkdownHeadingCollapsed": true,
    "tags": []
   },
   "source": [
    "# 55. Jump Game"
   ]
  },
  {
   "cell_type": "markdown",
   "id": "following-smooth",
   "metadata": {},
   "source": [
    "## Simple recursion"
   ]
  },
  {
   "cell_type": "code",
   "execution_count": null,
   "id": "global-upset",
   "metadata": {},
   "outputs": [],
   "source": [
    "def canJump(nums: List[int]) -> bool:  \n",
    "    return canJump_r(nums, 0)"
   ]
  },
  {
   "cell_type": "code",
   "execution_count": null,
   "id": "robust-daisy",
   "metadata": {},
   "outputs": [],
   "source": [
    "def canJump_r(nums: List[int], index: int) -> bool:\n",
    "    if index == len(nums)-1:\n",
    "        return True\n",
    "    \n",
    "    for i in range(1, nums[index]+1):\n",
    "        if canJump_r(nums, index+i):\n",
    "            return True\n",
    "    \n",
    "    return False"
   ]
  },
  {
   "cell_type": "markdown",
   "id": "large-luxury",
   "metadata": {},
   "source": [
    "## Recursion + memoization"
   ]
  },
  {
   "cell_type": "code",
   "execution_count": null,
   "id": "broad-blink",
   "metadata": {},
   "outputs": [],
   "source": [
    "def canJump(nums: List[int]) -> bool:\n",
    "    cache = [False] * len(nums)\n",
    "    return canJump_r(nums, cache, 0)"
   ]
  },
  {
   "cell_type": "code",
   "execution_count": null,
   "id": "binary-characteristic",
   "metadata": {},
   "outputs": [],
   "source": [
    "def canJump_r(nums: List[int], cache: List[int], index: int) -> bool:\n",
    "#     print(index)\n",
    "    if cache[index]:\n",
    "        return False\n",
    "    \n",
    "    for i in range(1, nums[index]+1):\n",
    "        if index+i == len(nums)-1:\n",
    "            return True\n",
    "        if canJump_r(nums, cache, index+i):\n",
    "            return True\n",
    "        \n",
    "    cache[index] = True\n",
    "    return False"
   ]
  },
  {
   "cell_type": "markdown",
   "id": "checked-plastic",
   "metadata": {},
   "source": [
    "## Bottom-up"
   ]
  },
  {
   "cell_type": "code",
   "execution_count": null,
   "id": "planned-rolling",
   "metadata": {},
   "outputs": [],
   "source": [
    "def canJump(nums: List[int]) -> bool:\n",
    "    cache = [False] * len(nums)\n",
    "    cache[0] = True\n",
    "    \n",
    "    for i in range(len(nums)):\n",
    "#         print(cache)\n",
    "        if not cache[i]:\n",
    "            return False\n",
    "        for j in range(1, nums[i]+1):\n",
    "            if i+j < len(nums):\n",
    "                cache[i+j] = True\n",
    "            else:\n",
    "                return True\n",
    "    \n",
    "    \n",
    "    return cache[-1]"
   ]
  },
  {
   "cell_type": "markdown",
   "id": "cc96fe17-7387-42ec-8b71-f82cd150d55f",
   "metadata": {},
   "source": [
    "## Optimal"
   ]
  },
  {
   "cell_type": "code",
   "execution_count": null,
   "id": "consolidated-necessity",
   "metadata": {},
   "outputs": [],
   "source": [
    "def canJump(nums: List[int]) -> bool:\n",
    "\n",
    "    current_max = 0\n",
    "    \n",
    "    for i in range(len(nums)):\n",
    "        \n",
    "        if i > current_max:\n",
    "            return False\n",
    "              \n",
    "        if i+nums[i] > current_max:\n",
    "            current_max = i+nums[i] \n",
    "  \n",
    "    return current_max >= len(nums)-1"
   ]
  },
  {
   "cell_type": "markdown",
   "id": "eastern-indonesian",
   "metadata": {},
   "source": [
    "## Test"
   ]
  },
  {
   "cell_type": "code",
   "execution_count": null,
   "id": "human-notification",
   "metadata": {},
   "outputs": [],
   "source": [
    "# canJump([2,3,1,0,4])\n",
    "canJump([3,2,1,0,4])"
   ]
  },
  {
   "cell_type": "code",
   "execution_count": null,
   "id": "contained-processing",
   "metadata": {},
   "outputs": [],
   "source": [
    "assert(canJump([2,3,1,1,4]) == True)\n",
    "assert(canJump([3,2,1,0,4]) == False)"
   ]
  },
  {
   "cell_type": "markdown",
   "id": "d559be76-d2d5-463a-8bad-9536249e9736",
   "metadata": {
    "jp-MarkdownHeadingCollapsed": true
   },
   "source": [
    "# 98. Validate Binary Search Tree"
   ]
  },
  {
   "cell_type": "code",
   "execution_count": null,
   "id": "f7ae31ca-906c-400e-a5fe-63cc60d9f4f8",
   "metadata": {},
   "outputs": [],
   "source": [
    "from common.tree import *"
   ]
  },
  {
   "cell_type": "code",
   "execution_count": null,
   "id": "c017f213-bfa2-42e6-ad47-0d77c17d714a",
   "metadata": {},
   "outputs": [],
   "source": [
    "tree = init_tree_from_array([5,1,7,6,10])\n",
    "tree.show()"
   ]
  },
  {
   "cell_type": "code",
   "execution_count": null,
   "id": "71337ae3-78e1-455c-9a38-194380f7c6f8",
   "metadata": {},
   "outputs": [],
   "source": [
    "def is_valid(node: TreeNode, min_val: int, max_val: int) -> bool:\n",
    "    \n",
    "    if max_val is not None and node.val < max_val:\n",
    "        return False\n",
    "    \n",
    "    if min_val is not None and node.val > min_val:\n",
    "        return False\n",
    "    \n",
    "    ret_val = True\n",
    "    \n",
    "    if node.left is not None:\n",
    "        ret_val &= is_valid(node.left, node.val, max_val)\n",
    "    \n",
    "    if node.right is not None:\n",
    "        ret_val &= is_valid(node.right, min_val, node.val)\n",
    "        \n",
    "    return ret_val"
   ]
  },
  {
   "cell_type": "code",
   "execution_count": null,
   "id": "74adffcc-f0c4-4b72-98a8-15e312b83860",
   "metadata": {},
   "outputs": [],
   "source": [
    "is_valid(tree, None, None)"
   ]
  },
  {
   "cell_type": "code",
   "execution_count": null,
   "id": "605c57b6-a8d9-4545-8ba4-ad5f62cc381e",
   "metadata": {},
   "outputs": [],
   "source": [
    "tree = init_tree_from_array([5,1,7,6,10])\n",
    "tree.right.val = 4\n",
    "tree.show()"
   ]
  },
  {
   "cell_type": "code",
   "execution_count": null,
   "id": "5ca733e1-9957-43e4-8b0b-83dc3c2a50e0",
   "metadata": {},
   "outputs": [],
   "source": [
    "is_valid(tree, None, None)"
   ]
  },
  {
   "cell_type": "markdown",
   "id": "5957e9c2-5d88-4a3f-80bc-8b5c43a3e32c",
   "metadata": {
    "jp-MarkdownHeadingCollapsed": true
   },
   "source": [
    "# 133. Clone Graph"
   ]
  },
  {
   "cell_type": "code",
   "execution_count": null,
   "id": "d41cff3a-a71a-4846-aa38-20a5aec71e04",
   "metadata": {},
   "outputs": [],
   "source": [
    "from leetcode._0133_clone_graph import *"
   ]
  },
  {
   "cell_type": "code",
   "execution_count": null,
   "id": "a0308b47-fc48-46eb-80fe-8a963a3ec43b",
   "metadata": {},
   "outputs": [],
   "source": [
    "adj_list = [[2,4],[1,3],[2,4],[1,3]]\n",
    "# adj_list = [[]]\n",
    "# adj_list = []\n",
    "\n",
    "\n",
    "builder = GraphBuilder()\n",
    "root = builder.init_graph_from_adj_list(adj_list)"
   ]
  },
  {
   "cell_type": "code",
   "execution_count": null,
   "id": "b36d1b15-b299-4f35-8513-d7d047a1ad96",
   "metadata": {},
   "outputs": [],
   "source": [
    "bfs(root)"
   ]
  },
  {
   "cell_type": "code",
   "execution_count": null,
   "id": "ad5484f3-4424-49f8-96f2-84cd155b68d8",
   "metadata": {},
   "outputs": [],
   "source": [
    "cloned = builder.clone(root)"
   ]
  },
  {
   "cell_type": "code",
   "execution_count": null,
   "id": "558be1fc-b17f-475e-bcf8-90e8247dccce",
   "metadata": {},
   "outputs": [],
   "source": [
    "bfs(cloned)"
   ]
  },
  {
   "cell_type": "code",
   "execution_count": null,
   "id": "c694c909-14e4-4145-8ce9-eafe012375c4",
   "metadata": {},
   "outputs": [],
   "source": [
    "cloned == root"
   ]
  },
  {
   "cell_type": "markdown",
   "id": "circular-rebate",
   "metadata": {
    "jp-MarkdownHeadingCollapsed": true,
    "tags": []
   },
   "source": [
    "# 1143. Longest Common Subsequence"
   ]
  },
  {
   "cell_type": "code",
   "execution_count": null,
   "id": "muslim-artwork",
   "metadata": {},
   "outputs": [],
   "source": [
    "def longestCommonSubsequence(text1: str, text2: str) -> int:   \n",
    "    # do not count for changin the order   \n",
    "    return (len(set(text1) & set(text2)))"
   ]
  },
  {
   "cell_type": "code",
   "execution_count": null,
   "id": "modular-dialogue",
   "metadata": {},
   "outputs": [],
   "source": [
    "def longestCommonSubsequence(text1: str, text2: str) -> int:\n",
    "       \n",
    "    max_len = 0  \n",
    "    t1_index = 0\n",
    "       \n",
    "    for i1, c1 in enumerate(text1):      \n",
    "        t1_index = i1\n",
    "        t2_index = 0\n",
    "        current_len = 0\n",
    "            \n",
    "        for i11 in range(t1_index, len(text1)):\n",
    "            c11 = text1[i11]\n",
    "          \n",
    "            for i2 in range(t2_index, len(text2)):          \n",
    "                c2 = text2[i2]\n",
    "                if c11 == c2:\n",
    "#                     t1_index = i11 + 1\n",
    "                    t2_index = i2 + 1\n",
    "                    current_len += 1\n",
    "        \n",
    "                    # next char in t1\n",
    "                    break\n",
    "            \n",
    "            if current_len==0:\n",
    "                break\n",
    "                \n",
    "            max_len = max(max_len, current_len)\n",
    "    \n",
    "    return max_len"
   ]
  },
  {
   "cell_type": "markdown",
   "id": "tracked-pakistan",
   "metadata": {},
   "source": [
    "## Recursion 1\n",
    "Как добавить к этому подходу мемоизацию?"
   ]
  },
  {
   "cell_type": "code",
   "execution_count": null,
   "id": "painted-courage",
   "metadata": {},
   "outputs": [],
   "source": [
    "def longestCommonSubsequence(text1: str, text2: str) -> int:\n",
    "\n",
    "    if len(text1)==0:\n",
    "        return 0\n",
    "    \n",
    "    if len(text2)==0:\n",
    "        return 0\n",
    "    \n",
    "    if len(text1)==1 and len(text2)==1:\n",
    "        if text1 == text2:\n",
    "            return 1\n",
    "        else:\n",
    "            return 0\n",
    "    \n",
    "    max_len = 0\n",
    "\n",
    "    for i in range(0, len(text1)):   \n",
    "        for j in range(0, len(text2)):\n",
    "            if text1[i] == text2[j]:           \n",
    "                if i == len(text1)-1:\n",
    "                    max_len = max(max_len, 1)                \n",
    "                for k in range(i+1, len(text1)):\n",
    "                    max_len = max(max_len, 1+longestCommonSubsequence(text1[k:], text2[j+1:]))\n",
    "\n",
    "\n",
    "    return max_len"
   ]
  },
  {
   "cell_type": "markdown",
   "id": "incorporate-tokyo",
   "metadata": {},
   "source": [
    "## Recursion 2"
   ]
  },
  {
   "cell_type": "code",
   "execution_count": null,
   "id": "electric-employment",
   "metadata": {},
   "outputs": [],
   "source": [
    "def longestCommonSubsequence(text1: str, text2: str) -> int:  \n",
    "    if len(text1) == 0:\n",
    "        return 0\n",
    "    if len(text2) == 0:\n",
    "        return 0\n",
    "    \n",
    "    max_len = 0\n",
    "    \n",
    "    if text1[0] == text2[0]:\n",
    "        max_len = 1 + longestCommonSubsequence(text1[1:], text2[1:])\n",
    "    else:\n",
    "        max_len = max(\n",
    "            longestCommonSubsequence(text1[1:], text2),\n",
    "            longestCommonSubsequence(text1, text2[1:])\n",
    "        )\n",
    "    \n",
    "    return max_len"
   ]
  },
  {
   "cell_type": "markdown",
   "id": "adapted-waters",
   "metadata": {},
   "source": [
    "## Recursion + memoization\n",
    "==? top-down"
   ]
  },
  {
   "cell_type": "code",
   "execution_count": null,
   "id": "shaped-money",
   "metadata": {},
   "outputs": [],
   "source": [
    "def longestCommonSubsequence(text1: str, text2: str) -> int:\n",
    "    table = [[-1]*len(text2) for i in range(len(text1))]\n",
    "    result = longestCommonSubsequence_r(text1, text2, 0, 0, table)\n",
    "#     print_table(table)\n",
    "    return result"
   ]
  },
  {
   "cell_type": "code",
   "execution_count": null,
   "id": "express-bones",
   "metadata": {},
   "outputs": [],
   "source": [
    "def longestCommonSubsequence_r(text1: str, text2: str, i: int, j: int, table) -> int:\n",
    "    if i == len(text1):\n",
    "        return 0\n",
    "    \n",
    "    if j == len(text2):\n",
    "        return 0\n",
    "    \n",
    "    if table[i][j] > 0:\n",
    "        return table[i][j]\n",
    "    \n",
    "    if text1[i] == text2[j]:\n",
    "        table[i][j] = 1 + longestCommonSubsequence_r(text1, text2, i+1, j+1, table)\n",
    "    else:\n",
    "        table[i][j] = max(\n",
    "            longestCommonSubsequence_r(text1, text2, i+1, j, table),\n",
    "            longestCommonSubsequence_r(text1, text2, i, j+1, table)\n",
    "        )\n",
    "    \n",
    "    return table[i][j]"
   ]
  },
  {
   "cell_type": "code",
   "execution_count": null,
   "id": "consolidated-flash",
   "metadata": {},
   "outputs": [],
   "source": [
    "# longestCommonSubsequence(\"DADCXX\", \"ABBBDC\")\n",
    "# longestCommonSubsequence(\"fish\", \"fosh\")\n",
    "# longestCommonSubsequence(\"ish\", \"osh\")\n",
    "\n",
    "# longestCommonSubsequence(\"abcdeasdfsdsdffsdfsd\", \"acesdffsdfssdfdfrsdf\")\n",
    "# longestCommonSubsequence(\"mhunuzqrkzsnidwbun\", \"szulspmhwpazoxijwbq\")\n",
    "\n",
    "longestCommonSubsequence(\"abcde\", \"ace\")\n",
    "# longestCommonSubsequence(\"er\", \"de\")"
   ]
  },
  {
   "cell_type": "code",
   "execution_count": null,
   "id": "linear-indian",
   "metadata": {},
   "outputs": [],
   "source": [
    "assert(longestCommonSubsequence(\"fish\", \"fosh\") == 3)\n",
    "assert(longestCommonSubsequence(\"ezupkr\", \"ubmrapg\") == 2)\n",
    "assert(longestCommonSubsequence(\"afoshim\", \"bfishon\") == 3)"
   ]
  },
  {
   "cell_type": "code",
   "execution_count": null,
   "id": "brown-therapy",
   "metadata": {},
   "outputs": [],
   "source": [
    "assert(longestCommonSubsequence(\"fish\", \"fosh\") == 3)\n",
    "assert(longestCommonSubsequence(\"ezupkr\", \"ubmrapg\") == 2)\n",
    "assert(longestCommonSubsequence(\"afoshim\", \"bfishon\") == 3)\n",
    "assert(longestCommonSubsequence(\"mhunuzqrkzsnidwbun\", \"szulspmhwpazoxijwbq\") == 6)"
   ]
  },
  {
   "cell_type": "code",
   "execution_count": null,
   "id": "metric-nursing",
   "metadata": {},
   "outputs": [],
   "source": []
  },
  {
   "cell_type": "code",
   "execution_count": null,
   "id": "knowing-father",
   "metadata": {},
   "outputs": [],
   "source": []
  }
 ],
 "metadata": {
  "kernelspec": {
   "display_name": "Python 3 (ipykernel)",
   "language": "python",
   "name": "python3"
  },
  "language_info": {
   "codemirror_mode": {
    "name": "ipython",
    "version": 3
   },
   "file_extension": ".py",
   "mimetype": "text/x-python",
   "name": "python",
   "nbconvert_exporter": "python",
   "pygments_lexer": "ipython3",
   "version": "3.11.4"
  }
 },
 "nbformat": 4,
 "nbformat_minor": 5
}
