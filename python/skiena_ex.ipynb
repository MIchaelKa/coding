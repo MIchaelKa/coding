{
 "cells": [
  {
   "cell_type": "markdown",
   "id": "6e6490b8-322f-4ebb-84cc-f7cbe3b283dd",
   "metadata": {},
   "source": [
    "# 3. Структуры данных"
   ]
  },
  {
   "cell_type": "markdown",
   "id": "cb8a1ea0-bd2e-40aa-a512-a23ba076c377",
   "metadata": {},
   "source": [
    "## Стеки, очереди и списки"
   ]
  },
  {
   "cell_type": "markdown",
   "id": "74fc59c9-2853-414c-8202-e60ca6054207",
   "metadata": {},
   "source": [
    "### 3.1 Правильные скобки\n",
    "\n",
    "__LeetCode__\n",
    "<br>\n",
    "https://leetcode.com/problems/valid-parentheses/"
   ]
  },
  {
   "cell_type": "code",
   "execution_count": null,
   "id": "dd668694-915c-4fa8-b439-2276f4bfcd48",
   "metadata": {},
   "outputs": [],
   "source": []
  }
 ],
 "metadata": {
  "kernelspec": {
   "display_name": "Python 3 (ipykernel)",
   "language": "python",
   "name": "python3"
  },
  "language_info": {
   "codemirror_mode": {
    "name": "ipython",
    "version": 3
   },
   "file_extension": ".py",
   "mimetype": "text/x-python",
   "name": "python",
   "nbconvert_exporter": "python",
   "pygments_lexer": "ipython3",
   "version": "3.8.9"
  }
 },
 "nbformat": 4,
 "nbformat_minor": 5
}
