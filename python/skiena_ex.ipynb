{
 "cells": [
  {
   "cell_type": "code",
   "execution_count": null,
   "id": "0f979e87-8a9e-4094-92a9-f10ac8b74ca2",
   "metadata": {},
   "outputs": [],
   "source": [
    "from __future__ import annotations"
   ]
  },
  {
   "cell_type": "code",
   "execution_count": null,
   "id": "b580b78a-485c-4c26-aa8f-adf51cd32045",
   "metadata": {},
   "outputs": [],
   "source": [
    "# Some more magic so that the notebook will reload external python modules;\n",
    "# see http://stackoverflow.com/questions/1907993/autoreload-of-modules-in-ipython\n",
    "%load_ext autoreload\n",
    "%autoreload 2"
   ]
  },
  {
   "cell_type": "markdown",
   "id": "6e6490b8-322f-4ebb-84cc-f7cbe3b283dd",
   "metadata": {},
   "source": [
    "# 3. Структуры данных"
   ]
  },
  {
   "cell_type": "markdown",
   "id": "cb8a1ea0-bd2e-40aa-a512-a23ba076c377",
   "metadata": {},
   "source": [
    "## Стеки, очереди и списки"
   ]
  },
  {
   "cell_type": "markdown",
   "id": "74fc59c9-2853-414c-8202-e60ca6054207",
   "metadata": {},
   "source": [
    "### 3.1 Правильные скобки\n",
    "\n",
    "__LeetCode__\n",
    "<br>\n",
    "https://leetcode.com/problems/valid-parentheses/\n",
    "<br>\n",
    "http://localhost:8888/lab/tree/coding/python/leetcode.ipynb#20.-Valid-Parentheses"
   ]
  },
  {
   "cell_type": "code",
   "execution_count": null,
   "id": "dd668694-915c-4fa8-b439-2276f4bfcd48",
   "metadata": {},
   "outputs": [],
   "source": [
    "def check_parenthesis(string: str) -> bool:\n",
    "    counter = 0\n",
    "    for char in string:\n",
    "        if char == '(':\n",
    "            counter += 1\n",
    "        else:\n",
    "            counter -= 1\n",
    "        if counter < 0:\n",
    "            return False\n",
    "    return True"
   ]
  },
  {
   "cell_type": "code",
   "execution_count": null,
   "id": "8c3b0cbb-4678-44a8-8369-1d9eaeefec7f",
   "metadata": {},
   "outputs": [],
   "source": [
    "assert(check_parenthesis(\"(()(()))\")==True)\n",
    "assert(check_parenthesis(\")(()\")==False)\n",
    "assert(check_parenthesis(\"(()()))\")==False)"
   ]
  },
  {
   "cell_type": "markdown",
   "id": "78a4a4af-bb3d-4172-95f2-5a5db2d5c5ad",
   "metadata": {},
   "source": [
    "## Деревья и другие словарные структуры"
   ]
  },
  {
   "cell_type": "code",
   "execution_count": null,
   "id": "536c0812-4f72-4ab9-9898-3f4913ba8724",
   "metadata": {},
   "outputs": [],
   "source": [
    "from common.tree import *"
   ]
  },
  {
   "cell_type": "markdown",
   "id": "815b6845-b144-4019-83cb-f7b981b5b32b",
   "metadata": {},
   "source": [
    "### 3.10 Максимальная глубина"
   ]
  },
  {
   "cell_type": "code",
   "execution_count": null,
   "id": "1773b4d7-d980-4ab2-b703-bea9ccc6b65d",
   "metadata": {},
   "outputs": [],
   "source": [
    "tree = init_tree_from_array([5,9,1,45,2,3,12,7,13])"
   ]
  },
  {
   "cell_type": "code",
   "execution_count": null,
   "id": "0840b557-d018-4a07-9ac7-50ae4867dbc8",
   "metadata": {},
   "outputs": [],
   "source": [
    "def max_depth(head: TreeNode) -> int: \n",
    "    if head.left is not None:\n",
    "        left_depth = 1 + max_depth(head.left)\n",
    "    else:\n",
    "        left_depth = 0\n",
    "        \n",
    "    if head.right is not None:\n",
    "        right_depth = 1 + max_depth(head.right)\n",
    "    else:\n",
    "        right_depth = 0\n",
    "       \n",
    "    return max(left_depth, right_depth)"
   ]
  },
  {
   "cell_type": "code",
   "execution_count": null,
   "id": "c8d1f4d4-e349-4b55-8055-2fc1845279f0",
   "metadata": {},
   "outputs": [],
   "source": [
    "max_depth(tree)"
   ]
  },
  {
   "cell_type": "markdown",
   "id": "a3c1fc49-ae77-4136-8598-9f3b0de2d36e",
   "metadata": {},
   "source": [
    "### 3.11 Обнаружение элементов которые поменяли местами "
   ]
  },
  {
   "cell_type": "code",
   "execution_count": null,
   "id": "71554d9e-fb29-4876-9545-580fe2219486",
   "metadata": {},
   "outputs": [],
   "source": [
    "def find_swapped_elements(node: TreeNode, min_val: int, max_val: int) -> list[TreeNode]:\n",
    "    \n",
    "    if max_val is not None and node.val < max_val:\n",
    "        return [node]\n",
    "    \n",
    "    if min_val is not None and node.val > min_val:\n",
    "        return [node]\n",
    "    \n",
    "    nodes = []\n",
    "    \n",
    "    if node.left is not None:\n",
    "        nodes.extend(find_swapped_elements(node.left, node.val, max_val))\n",
    "    \n",
    "    if node.right is not None:\n",
    "        nodes.extend(find_swapped_elements(node.right, min_val, node.val))\n",
    "        \n",
    "    return nodes"
   ]
  },
  {
   "cell_type": "code",
   "execution_count": null,
   "id": "35f08340-5e55-4cfe-8b68-fbe86d2d7286",
   "metadata": {},
   "outputs": [],
   "source": [
    "def test(head: TreeNode, first: TreeNode, second: TreeNode):\n",
    "    initial = list(tree)\n",
    "    \n",
    "    # make a mistake and change two values\n",
    "    swap(first, second)\n",
    "    changed = list(tree)\n",
    "    assert(initial!=changed)\n",
    "    \n",
    "    # find problem nodes\n",
    "    swapped = find_swapped_elements(tree, None, None)\n",
    "    swap(swapped[0], swapped[1])\n",
    "    final = list(tree)\n",
    "    assert(initial==final)"
   ]
  },
  {
   "cell_type": "code",
   "execution_count": null,
   "id": "0bba3b3b-537c-418d-98d5-4ef8167029e1",
   "metadata": {},
   "outputs": [],
   "source": [
    "# test 1\n",
    "tree = init_tree_from_array([5,9,1,45,2,3,12,7])\n",
    "first = tree.left.right\n",
    "second = tree.right.right\n",
    "test(tree, first, second)"
   ]
  },
  {
   "cell_type": "code",
   "execution_count": null,
   "id": "f4bf3eac-dee7-4849-b043-cc62930c69f3",
   "metadata": {},
   "outputs": [],
   "source": [
    "# test 2\n",
    "tree = init_tree_from_array([15,10,20,6,12,17,45,4,9,11,14,16,19,30,50])\n",
    "first = tree.left.left.right\n",
    "second = tree.left.right.left\n",
    "test(tree, first, second)"
   ]
  },
  {
   "cell_type": "code",
   "execution_count": null,
   "id": "4ea65f5b-852e-47cd-a251-b37cff2dce5d",
   "metadata": {},
   "outputs": [],
   "source": [
    "# test 3\n",
    "tree = init_tree_from_array([15,10,20,6,12,17,45,4,9,11,14,16,19,30,50])\n",
    "first = tree.left.right.right\n",
    "second = tree.right.left.left\n",
    "test(tree, first, second)"
   ]
  },
  {
   "cell_type": "markdown",
   "id": "c770b073-2ec8-4eeb-80b4-915f6c544157",
   "metadata": {},
   "source": [
    "# 4. Сортировка"
   ]
  },
  {
   "cell_type": "markdown",
   "id": "96d0fb67-9f1e-4d7f-9748-a32744e29a8c",
   "metadata": {},
   "source": [
    "## Применение сортировки"
   ]
  },
  {
   "cell_type": "markdown",
   "id": "36e3c1df-d504-4161-b5e8-0c55a4510ccc",
   "metadata": {},
   "source": [
    "### 4.2 Find elements"
   ]
  },
  {
   "cell_type": "markdown",
   "id": "414c9f3b-7ced-489f-a4ff-1041161b559f",
   "metadata": {},
   "source": [
    "a) Найти два элемента с наибольшей абсолютной разностью в неотсортированном массиве"
   ]
  },
  {
   "cell_type": "code",
   "execution_count": 169,
   "id": "66d38f8f-1bfe-4a79-947b-ce0197f6a4d1",
   "metadata": {},
   "outputs": [],
   "source": [
    "def find_max_diff(array: list[int]) -> int:  \n",
    "    min_elem = array[0]\n",
    "    max_elem = array[0]  \n",
    "    for i in range(1, len(array)):\n",
    "        if array[i] > max_elem:\n",
    "            max_elem = array[i]\n",
    "        if array[i] < min_elem:\n",
    "            min_elem = array[i]\n",
    "    return abs(max_elem - min_elem)"
   ]
  },
  {
   "cell_type": "code",
   "execution_count": 170,
   "id": "0d53a980-5aad-448c-a458-db4ff231a565",
   "metadata": {},
   "outputs": [
    {
     "data": {
      "text/plain": [
       "16"
      ]
     },
     "execution_count": 170,
     "metadata": {},
     "output_type": "execute_result"
    }
   ],
   "source": [
    "array = [6,13,19,8,3]\n",
    "find_max_diff(array)"
   ]
  },
  {
   "cell_type": "markdown",
   "id": "fbad5744-e97c-479d-b169-b3da96ae7247",
   "metadata": {},
   "source": [
    "c) Найти два элемента с наименьшей абсолютной разностью в неотсортированном массиве"
   ]
  },
  {
   "cell_type": "code",
   "execution_count": 211,
   "id": "f3d8c741-d841-4020-9ee1-4a32f5f1db66",
   "metadata": {},
   "outputs": [],
   "source": [
    "# 1. sort\n",
    "# 2. elements with min diff should come one after another"
   ]
  },
  {
   "cell_type": "markdown",
   "id": "3dc514d2-9b8d-42c0-b336-3ac8eaffacfc",
   "metadata": {},
   "source": [
    "### 4.3 min max pair sum"
   ]
  },
  {
   "cell_type": "code",
   "execution_count": 204,
   "id": "f1152ad2-d0e6-4414-9e68-e1a63d8498c7",
   "metadata": {},
   "outputs": [],
   "source": [
    "def min_max_pair_sum(array: list[int]) -> list[(int,int)]:\n",
    "    array.sort()\n",
    "    pairs = []\n",
    "    \n",
    "    for i in range(int(len(array)/2)):\n",
    "        pairs.append((array[i], array[-(i+1)]))\n",
    "        \n",
    "    return pairs"
   ]
  },
  {
   "cell_type": "code",
   "execution_count": 208,
   "id": "0fdae811-8788-4be0-bca0-07404750cc05",
   "metadata": {},
   "outputs": [
    {
     "data": {
      "text/plain": [
       "[(1, 18), (3, 9), (4, 5)]"
      ]
     },
     "execution_count": 208,
     "metadata": {},
     "output_type": "execute_result"
    }
   ],
   "source": [
    "array = [3,1,5,9,4,18]\n",
    "min_max_pair_sum(array)"
   ]
  },
  {
   "cell_type": "markdown",
   "id": "6de518b9-0075-4db6-8a7f-c89476c958a6",
   "metadata": {},
   "source": [
    "### 4.9 Add up to T"
   ]
  },
  {
   "cell_type": "code",
   "execution_count": 260,
   "id": "b7917b8c-bb2c-4f66-9681-f1a942356fda",
   "metadata": {},
   "outputs": [],
   "source": [
    "from common.utils import binary_search\n",
    "from skiena._4_9_is_add_up_to_t import *"
   ]
  },
  {
   "cell_type": "code",
   "execution_count": 261,
   "id": "f1467bac-ef3f-462e-89f3-fdb10cf5e8b8",
   "metadata": {},
   "outputs": [
    {
     "data": {
      "text/plain": [
       "[1, 4, 5]"
      ]
     },
     "execution_count": 261,
     "metadata": {},
     "output_type": "execute_result"
    }
   ],
   "source": [
    "array = [3,1,5,9,4,2,18]\n",
    "is_add_up_to_t(array, 3, 10)\n",
    "# is_add_up_to_t(array, 2, 5)"
   ]
  },
  {
   "cell_type": "code",
   "execution_count": null,
   "id": "cac2b108-4193-428b-b7df-5c0f1d5441d3",
   "metadata": {},
   "outputs": [],
   "source": []
  }
 ],
 "metadata": {
  "kernelspec": {
   "display_name": "Python 3 (ipykernel)",
   "language": "python",
   "name": "python3"
  },
  "language_info": {
   "codemirror_mode": {
    "name": "ipython",
    "version": 3
   },
   "file_extension": ".py",
   "mimetype": "text/x-python",
   "name": "python",
   "nbconvert_exporter": "python",
   "pygments_lexer": "ipython3",
   "version": "3.8.9"
  }
 },
 "nbformat": 4,
 "nbformat_minor": 5
}
