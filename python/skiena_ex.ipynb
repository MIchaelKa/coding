{
 "cells": [
  {
   "cell_type": "markdown",
   "id": "6e6490b8-322f-4ebb-84cc-f7cbe3b283dd",
   "metadata": {},
   "source": [
    "# 3. Структуры данных"
   ]
  },
  {
   "cell_type": "markdown",
   "id": "cb8a1ea0-bd2e-40aa-a512-a23ba076c377",
   "metadata": {},
   "source": [
    "## Стеки, очереди и списки"
   ]
  },
  {
   "cell_type": "markdown",
   "id": "74fc59c9-2853-414c-8202-e60ca6054207",
   "metadata": {},
   "source": [
    "### 3.1 Правильные скобки\n",
    "\n",
    "__LeetCode__\n",
    "<br>\n",
    "https://leetcode.com/problems/valid-parentheses/"
   ]
  },
  {
   "cell_type": "code",
   "execution_count": 8,
   "id": "dd668694-915c-4fa8-b439-2276f4bfcd48",
   "metadata": {},
   "outputs": [],
   "source": [
    "def check_parenthesis(string: str) -> bool:\n",
    "    counter = 0\n",
    "    for char in string:\n",
    "        if char == '(':\n",
    "            counter += 1\n",
    "        else:\n",
    "            counter -= 1\n",
    "        if counter < 0:\n",
    "            return False\n",
    "    return True"
   ]
  },
  {
   "cell_type": "code",
   "execution_count": 10,
   "id": "8c3b0cbb-4678-44a8-8369-1d9eaeefec7f",
   "metadata": {},
   "outputs": [],
   "source": [
    "assert(check_parenthesis(\"(()(()))\")==True)\n",
    "assert(check_parenthesis(\")(()\")==False)\n",
    "assert(check_parenthesis(\"(()()))\")==False)"
   ]
  },
  {
   "cell_type": "code",
   "execution_count": null,
   "id": "8604ba3a-3fb1-4f96-8017-3fbc5efac045",
   "metadata": {},
   "outputs": [],
   "source": []
  }
 ],
 "metadata": {
  "kernelspec": {
   "display_name": "Python 3 (ipykernel)",
   "language": "python",
   "name": "python3"
  },
  "language_info": {
   "codemirror_mode": {
    "name": "ipython",
    "version": 3
   },
   "file_extension": ".py",
   "mimetype": "text/x-python",
   "name": "python",
   "nbconvert_exporter": "python",
   "pygments_lexer": "ipython3",
   "version": "3.8.9"
  }
 },
 "nbformat": 4,
 "nbformat_minor": 5
}
