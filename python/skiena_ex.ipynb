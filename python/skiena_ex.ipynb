{
 "cells": [
  {
   "cell_type": "code",
   "execution_count": null,
   "id": "0f979e87-8a9e-4094-92a9-f10ac8b74ca2",
   "metadata": {},
   "outputs": [],
   "source": [
    "from __future__ import annotations"
   ]
  },
  {
   "cell_type": "code",
   "execution_count": null,
   "id": "b580b78a-485c-4c26-aa8f-adf51cd32045",
   "metadata": {},
   "outputs": [],
   "source": [
    "# Some more magic so that the notebook will reload external python modules;\n",
    "# see http://stackoverflow.com/questions/1907993/autoreload-of-modules-in-ipython\n",
    "%load_ext autoreload\n",
    "%autoreload 2"
   ]
  },
  {
   "cell_type": "markdown",
   "id": "6e6490b8-322f-4ebb-84cc-f7cbe3b283dd",
   "metadata": {},
   "source": [
    "# 3. Структуры данных"
   ]
  },
  {
   "cell_type": "markdown",
   "id": "cb8a1ea0-bd2e-40aa-a512-a23ba076c377",
   "metadata": {},
   "source": [
    "## Стеки, очереди и списки"
   ]
  },
  {
   "cell_type": "markdown",
   "id": "74fc59c9-2853-414c-8202-e60ca6054207",
   "metadata": {},
   "source": [
    "### 3.1 Правильные скобки\n",
    "\n",
    "__LeetCode__\n",
    "<br>\n",
    "https://leetcode.com/problems/valid-parentheses/\n",
    "<br>\n",
    "http://localhost:8888/lab/tree/coding/python/leetcode.ipynb#20.-Valid-Parentheses"
   ]
  },
  {
   "cell_type": "code",
   "execution_count": null,
   "id": "dd668694-915c-4fa8-b439-2276f4bfcd48",
   "metadata": {},
   "outputs": [],
   "source": [
    "def check_parenthesis(string: str) -> bool:\n",
    "    counter = 0\n",
    "    for char in string:\n",
    "        if char == '(':\n",
    "            counter += 1\n",
    "        else:\n",
    "            counter -= 1\n",
    "        if counter < 0:\n",
    "            return False\n",
    "    return True"
   ]
  },
  {
   "cell_type": "code",
   "execution_count": null,
   "id": "8c3b0cbb-4678-44a8-8369-1d9eaeefec7f",
   "metadata": {},
   "outputs": [],
   "source": [
    "assert(check_parenthesis(\"(()(()))\")==True)\n",
    "assert(check_parenthesis(\")(()\")==False)\n",
    "assert(check_parenthesis(\"(()()))\")==False)"
   ]
  },
  {
   "cell_type": "markdown",
   "id": "78a4a4af-bb3d-4172-95f2-5a5db2d5c5ad",
   "metadata": {},
   "source": [
    "## Деревья и другие словарные структуры"
   ]
  },
  {
   "cell_type": "code",
   "execution_count": null,
   "id": "536c0812-4f72-4ab9-9898-3f4913ba8724",
   "metadata": {},
   "outputs": [],
   "source": [
    "from common.tree import *"
   ]
  },
  {
   "cell_type": "markdown",
   "id": "815b6845-b144-4019-83cb-f7b981b5b32b",
   "metadata": {},
   "source": [
    "### 3.10 Максимальная глубина"
   ]
  },
  {
   "cell_type": "code",
   "execution_count": null,
   "id": "1773b4d7-d980-4ab2-b703-bea9ccc6b65d",
   "metadata": {},
   "outputs": [],
   "source": [
    "tree = init_tree_from_array([5,9,1,45,2,3,12,7,13])"
   ]
  },
  {
   "cell_type": "code",
   "execution_count": null,
   "id": "0840b557-d018-4a07-9ac7-50ae4867dbc8",
   "metadata": {},
   "outputs": [],
   "source": [
    "def max_depth(head: TreeNode) -> int: \n",
    "    if head.left is not None:\n",
    "        left_depth = 1 + max_depth(head.left)\n",
    "    else:\n",
    "        left_depth = 0\n",
    "        \n",
    "    if head.right is not None:\n",
    "        right_depth = 1 + max_depth(head.right)\n",
    "    else:\n",
    "        right_depth = 0\n",
    "       \n",
    "    return max(left_depth, right_depth)"
   ]
  },
  {
   "cell_type": "code",
   "execution_count": null,
   "id": "c8d1f4d4-e349-4b55-8055-2fc1845279f0",
   "metadata": {},
   "outputs": [],
   "source": [
    "max_depth(tree)"
   ]
  },
  {
   "cell_type": "markdown",
   "id": "a3c1fc49-ae77-4136-8598-9f3b0de2d36e",
   "metadata": {},
   "source": [
    "### 3.11 Обнаружение элементов которые поменяли местами "
   ]
  },
  {
   "cell_type": "code",
   "execution_count": null,
   "id": "71554d9e-fb29-4876-9545-580fe2219486",
   "metadata": {},
   "outputs": [],
   "source": [
    "def find_swapped_elements(node: TreeNode, min_val: int, max_val: int) -> list[TreeNode]:\n",
    "    \n",
    "    if max_val is not None and node.val < max_val:\n",
    "        return [node]\n",
    "    \n",
    "    if min_val is not None and node.val > min_val:\n",
    "        return [node]\n",
    "    \n",
    "    nodes = []\n",
    "    \n",
    "    if node.left is not None:\n",
    "        nodes.extend(find_swapped_elements(node.left, node.val, max_val))\n",
    "    \n",
    "    if node.right is not None:\n",
    "        nodes.extend(find_swapped_elements(node.right, min_val, node.val))\n",
    "        \n",
    "    return nodes"
   ]
  },
  {
   "cell_type": "code",
   "execution_count": null,
   "id": "35f08340-5e55-4cfe-8b68-fbe86d2d7286",
   "metadata": {},
   "outputs": [],
   "source": [
    "def test(head: TreeNode, first: TreeNode, second: TreeNode):\n",
    "    initial = list(tree)\n",
    "    \n",
    "    # make a mistake and change two values\n",
    "    swap(first, second)\n",
    "    changed = list(tree)\n",
    "    assert(initial!=changed)\n",
    "    \n",
    "    # find problem nodes\n",
    "    swapped = find_swapped_elements(tree, None, None)\n",
    "    swap(swapped[0], swapped[1])\n",
    "    final = list(tree)\n",
    "    assert(initial==final)"
   ]
  },
  {
   "cell_type": "code",
   "execution_count": null,
   "id": "0bba3b3b-537c-418d-98d5-4ef8167029e1",
   "metadata": {},
   "outputs": [],
   "source": [
    "# test 1\n",
    "tree = init_tree_from_array([5,9,1,45,2,3,12,7])\n",
    "first = tree.left.right\n",
    "second = tree.right.right\n",
    "test(tree, first, second)"
   ]
  },
  {
   "cell_type": "code",
   "execution_count": null,
   "id": "f4bf3eac-dee7-4849-b043-cc62930c69f3",
   "metadata": {},
   "outputs": [],
   "source": [
    "# test 2\n",
    "tree = init_tree_from_array([15,10,20,6,12,17,45,4,9,11,14,16,19,30,50])\n",
    "first = tree.left.left.right\n",
    "second = tree.left.right.left\n",
    "test(tree, first, second)"
   ]
  },
  {
   "cell_type": "code",
   "execution_count": null,
   "id": "4ea65f5b-852e-47cd-a251-b37cff2dce5d",
   "metadata": {},
   "outputs": [],
   "source": [
    "# test 3\n",
    "tree = init_tree_from_array([15,10,20,6,12,17,45,4,9,11,14,16,19,30,50])\n",
    "first = tree.left.right.right\n",
    "second = tree.right.left.left\n",
    "test(tree, first, second)"
   ]
  },
  {
   "cell_type": "markdown",
   "id": "c770b073-2ec8-4eeb-80b4-915f6c544157",
   "metadata": {},
   "source": [
    "# 4. Сортировка"
   ]
  },
  {
   "cell_type": "markdown",
   "id": "96d0fb67-9f1e-4d7f-9748-a32744e29a8c",
   "metadata": {},
   "source": [
    "## Применение сортировки: Числа"
   ]
  },
  {
   "cell_type": "markdown",
   "id": "36e3c1df-d504-4161-b5e8-0c55a4510ccc",
   "metadata": {},
   "source": [
    "### 4.2 Find elements"
   ]
  },
  {
   "cell_type": "markdown",
   "id": "414c9f3b-7ced-489f-a4ff-1041161b559f",
   "metadata": {},
   "source": [
    "a) Найти два элемента с наибольшей абсолютной разностью в неотсортированном массиве"
   ]
  },
  {
   "cell_type": "code",
   "execution_count": null,
   "id": "66d38f8f-1bfe-4a79-947b-ce0197f6a4d1",
   "metadata": {},
   "outputs": [],
   "source": [
    "def find_max_diff(array: list[int]) -> int:  \n",
    "    min_elem = array[0]\n",
    "    max_elem = array[0]  \n",
    "    for i in range(1, len(array)):\n",
    "        if array[i] > max_elem:\n",
    "            max_elem = array[i]\n",
    "        if array[i] < min_elem:\n",
    "            min_elem = array[i]\n",
    "    return abs(max_elem - min_elem)"
   ]
  },
  {
   "cell_type": "code",
   "execution_count": null,
   "id": "0d53a980-5aad-448c-a458-db4ff231a565",
   "metadata": {},
   "outputs": [],
   "source": [
    "array = [6,13,19,8,3]\n",
    "find_max_diff(array)"
   ]
  },
  {
   "cell_type": "markdown",
   "id": "fbad5744-e97c-479d-b169-b3da96ae7247",
   "metadata": {},
   "source": [
    "c) Найти два элемента с наименьшей абсолютной разностью в неотсортированном массиве"
   ]
  },
  {
   "cell_type": "code",
   "execution_count": null,
   "id": "f3d8c741-d841-4020-9ee1-4a32f5f1db66",
   "metadata": {},
   "outputs": [],
   "source": [
    "# 1. sort\n",
    "# 2. elements with min diff should come one after another"
   ]
  },
  {
   "cell_type": "markdown",
   "id": "3dc514d2-9b8d-42c0-b336-3ac8eaffacfc",
   "metadata": {},
   "source": [
    "### 4.3 min max pair sum"
   ]
  },
  {
   "cell_type": "code",
   "execution_count": null,
   "id": "f1152ad2-d0e6-4414-9e68-e1a63d8498c7",
   "metadata": {},
   "outputs": [],
   "source": [
    "def min_max_pair_sum(array: list[int]) -> list[(int,int)]:\n",
    "    array.sort()\n",
    "    pairs = []\n",
    "    \n",
    "    for i in range(int(len(array)/2)):\n",
    "        pairs.append((array[i], array[-(i+1)]))\n",
    "        \n",
    "    return pairs"
   ]
  },
  {
   "cell_type": "code",
   "execution_count": null,
   "id": "0fdae811-8788-4be0-bca0-07404750cc05",
   "metadata": {},
   "outputs": [],
   "source": [
    "array = [3,1,5,9,4,18]\n",
    "min_max_pair_sum(array)"
   ]
  },
  {
   "cell_type": "markdown",
   "id": "6de518b9-0075-4db6-8a7f-c89476c958a6",
   "metadata": {},
   "source": [
    "### 4.9 Add up to T"
   ]
  },
  {
   "cell_type": "code",
   "execution_count": null,
   "id": "b7917b8c-bb2c-4f66-9681-f1a942356fda",
   "metadata": {},
   "outputs": [],
   "source": [
    "from common.utils import binary_search\n",
    "from skiena._04_09_is_add_up_to_t import *"
   ]
  },
  {
   "cell_type": "code",
   "execution_count": null,
   "id": "f1467bac-ef3f-462e-89f3-fdb10cf5e8b8",
   "metadata": {},
   "outputs": [],
   "source": [
    "array = [3,1,5,9,4,2,18]\n",
    "is_add_up_to_t(array, 5, 20)\n",
    "# is_add_up_to_t(array, 2, 5)"
   ]
  },
  {
   "cell_type": "code",
   "execution_count": null,
   "id": "cac2b108-4193-428b-b7df-5c0f1d5441d3",
   "metadata": {},
   "outputs": [],
   "source": [
    "array = [3,1,5,9,4,2,18]\n",
    "assert(sum(is_add_up_to_t(array, 3, 10)) == 10)\n",
    "assert(sum(is_add_up_to_t(array, 2, 7)) == 7)\n",
    "assert(is_add_up_to_t(array, 2, 15) == None)\n",
    "assert(sum(is_add_up_to_t(array, 5, 20)) == 20)\n",
    "array"
   ]
  },
  {
   "cell_type": "markdown",
   "id": "9cb0f390-6397-4449-9c14-0e05c88577d3",
   "metadata": {},
   "source": [
    "## Пирамиды"
   ]
  },
  {
   "cell_type": "markdown",
   "id": "dfad0c73-b944-42b7-9402-a073dbf5da2b",
   "metadata": {},
   "source": [
    "### 4.18 Merge k-sorted lists\n",
    "__LeetCode__\n",
    "<br>\n",
    "https://leetcode.com/problems/merge-k-sorted-lists/\n",
    "<br>\n",
    "__python heap__\n",
    "<br>\n",
    "https://docs.python.org/3/library/heapq.html\n",
    "<br>\n",
    "\n",
    "\n",
    "__мысли:__\n",
    "- имеет ли смысл поделить все массивы пополам и сливать 2k списков?\n",
    "- все массивы в одну пирамиду?"
   ]
  },
  {
   "cell_type": "code",
   "execution_count": null,
   "id": "cbdc13c8-de3f-4370-a73b-29355c111b5d",
   "metadata": {},
   "outputs": [],
   "source": [
    "import heapq\n",
    "\n",
    "def merge_lists(lists: list[list[int]]) -> list[int]:\n",
    "    # O(k)\n",
    "    heap = []\n",
    "    new_len = 0\n",
    "    for i, l in enumerate(lists):\n",
    "        new_len += len(l)\n",
    "        heap.append((l.pop(0), i)) # do not use a list as a queue\n",
    "    \n",
    "    # O(k)\n",
    "    heapq.heapify(heap)\n",
    "\n",
    "    # O(n*log(k))\n",
    "    new_list = []\n",
    "    while len(heap) != 0:\n",
    "        item, list_index = heapq.heappop(heap)\n",
    "        new_list.append(item)\n",
    "        if len(lists[list_index]) != 0:\n",
    "            heapq.heappush(heap, (lists[list_index].pop(0), list_index))\n",
    "    return new_list"
   ]
  },
  {
   "cell_type": "code",
   "execution_count": null,
   "id": "120383c2-09d5-44cb-aa0f-8f124ea5c29b",
   "metadata": {},
   "outputs": [],
   "source": [
    "lists = [[1,4,5],[1,3,4],[2,6]]\n",
    "merge_lists(lists)"
   ]
  },
  {
   "cell_type": "code",
   "execution_count": null,
   "id": "8deace17-a6f7-4883-9714-3e89ab2af7c5",
   "metadata": {},
   "outputs": [],
   "source": [
    "lists = [[1,4,5,12,17,23,89],[10,13,14],[2,6],[7,9,122,126,129]]\n",
    "merge_lists(lists)"
   ]
  },
  {
   "cell_type": "markdown",
   "id": "741e8c6f-6468-46f8-b7fe-1f9915590436",
   "metadata": {},
   "source": [
    "## Быстрая сортировка"
   ]
  },
  {
   "cell_type": "markdown",
   "id": "c188dfa1-e439-472d-9c04-9b1aa26011d7",
   "metadata": {},
   "source": [
    "### 4.21 Find array median"
   ]
  },
  {
   "cell_type": "code",
   "execution_count": null,
   "id": "6062dc14-7a80-44ec-8543-c90999e545ae",
   "metadata": {},
   "outputs": [],
   "source": [
    "\"\"\"\n",
    "    Solution 1.\n",
    "    \n",
    "    Complexity:\n",
    "        time : O(n) ???\n",
    "        memory : O(1)\n",
    "\"\"\"\n",
    "\n",
    "def find_median(array: list[int], low: int, high: int) -> int:\n",
    "    \n",
    "    # consider only arrays with odd number of elements\n",
    "    # we can calculate it once\n",
    "    median_index = int(len(array)/2)\n",
    "    \n",
    "    pivot_index = partition(array, low, high)\n",
    "    \n",
    "    if pivot_index == median_index:\n",
    "        return array[pivot_index]\n",
    "    elif pivot_index < median_index:\n",
    "        return find_median(array, pivot_index+1, high)\n",
    "    else:\n",
    "        return find_median(array, low, pivot_index-1)\n",
    "\n",
    "def partition(array: list[int], low: int, high: int) -> int:\n",
    "    \n",
    "    pivot_index = high\n",
    "    pivot = array[pivot_index]\n",
    "    firsthigh = low\n",
    "    \n",
    "    for i in range(low, high):\n",
    "        if array[i] < pivot:\n",
    "            swap(array, firsthigh, i)\n",
    "            firsthigh += 1\n",
    "    \n",
    "    swap(array, firsthigh, pivot_index)\n",
    "    \n",
    "    return firsthigh\n",
    "\n",
    "def swap(array: list[int], first: int, second: int):\n",
    "    array[first], array[second] = array[second], array[first]"
   ]
  },
  {
   "cell_type": "code",
   "execution_count": null,
   "id": "fead6bd2-f011-4473-987e-f7266e3eb03a",
   "metadata": {},
   "outputs": [],
   "source": [
    "array = [3,1,5,9,4,2,18,125,6]\n",
    "print(array)\n",
    "print(sorted(array))\n",
    "\n",
    "median = find_median(array, 0, len(array)-1)\n",
    "print(median)\n",
    "# partition(array, 0, len(array)-1)\n",
    "# print(array)"
   ]
  },
  {
   "cell_type": "markdown",
   "id": "67f1a2fc-12ef-4824-a3d6-9016e3ea4e78",
   "metadata": {},
   "source": [
    "# 5. Разделяй и властвуй"
   ]
  },
  {
   "cell_type": "markdown",
   "id": "49ffaefd-c6ac-4f69-b2bf-59bee96610b0",
   "metadata": {},
   "source": [
    "## Двоичный поиск"
   ]
  },
  {
   "cell_type": "markdown",
   "id": "4be58eff-fd1e-4f29-91ae-daf0240343b1",
   "metadata": {},
   "source": [
    "### 5.1 Find max in shifted array"
   ]
  },
  {
   "cell_type": "code",
   "execution_count": null,
   "id": "81e7df99-a0a0-43cf-a547-b644fc0af092",
   "metadata": {},
   "outputs": [],
   "source": [
    "\"\"\"\n",
    "    Решение 1.\n",
    "    Не додумался сравнить первый элемент с последним в самом начале.\n",
    "\"\"\"\n",
    "\n",
    "def find_max_in_shifted(array: list[int]) -> int:\n",
    "    low = 0\n",
    "    high = len(array)-1\n",
    "    mid = int((low+high)/2)\n",
    "    right_max_item = find_max_in_shifted_helper(array, array[mid], mid+1, high)\n",
    "    \n",
    "    if right_max_item == array[-1] or right_max_item == array[mid]:\n",
    "        left_max_item = find_max_in_shifted_helper(array, right_max_item, 0, mid-1)\n",
    "        return max(left_max_item, right_max_item)\n",
    "    \n",
    "    return right_max_item\n",
    "\n",
    "def find_max_in_shifted_helper(array: list[int], max_item: int, low: int, high: int) -> int:\n",
    "    \n",
    "    if low > high:\n",
    "        return max_item\n",
    "            \n",
    "    mid = int((low+high)/2)\n",
    "    \n",
    "    if array[mid] >= max_item:\n",
    "        max_item = find_max_in_shifted_helper(array, array[mid], mid+1, high)\n",
    "    else:\n",
    "        max_item = find_max_in_shifted_helper(array, max_item, low, mid-1)\n",
    "    \n",
    "    return max_item"
   ]
  },
  {
   "cell_type": "code",
   "execution_count": null,
   "id": "a00dda6f-0496-4c2a-ba4a-07c35f426249",
   "metadata": {},
   "outputs": [],
   "source": [
    "array = [5,7,8,9,10,11,12,13,2,3,4]\n",
    "find_max_in_shifted(array)"
   ]
  },
  {
   "cell_type": "code",
   "execution_count": null,
   "id": "877f6e94-c2b7-432f-a125-e5ca011d0189",
   "metadata": {},
   "outputs": [],
   "source": [
    "assert(find_max_in_shifted([5,7,8,9,10,11,12,13,2,3,4])==13)\n",
    "assert(find_max_in_shifted([35,42,5,7,9,10,13,15,27,29])==42)\n",
    "assert(find_max_in_shifted([5,7,8,9,10,11,0,1,2,3,4])==11)\n",
    "assert(find_max_in_shifted([5,7,8,9,10,11])==11)\n",
    "assert(find_max_in_shifted([56,5,7,8,9,10,11])==56)"
   ]
  },
  {
   "cell_type": "markdown",
   "id": "1872f60c-4376-4e1f-b54d-494bec9915b0",
   "metadata": {},
   "source": [
    "## Divide and Conquer Algorithms"
   ]
  },
  {
   "cell_type": "code",
   "execution_count": null,
   "id": "ebe7a7eb-777f-4fad-bfac-1757c492c34d",
   "metadata": {},
   "outputs": [],
   "source": [
    "# TBD"
   ]
  },
  {
   "cell_type": "markdown",
   "id": "076722a4-d0f0-4d3c-9eb7-225041e32516",
   "metadata": {},
   "source": [
    "# 7. Графы"
   ]
  },
  {
   "cell_type": "code",
   "execution_count": null,
   "id": "e0c62690-d3ee-4687-b9ee-d2b4de8945b7",
   "metadata": {},
   "outputs": [],
   "source": [
    "from common.graph import *"
   ]
  },
  {
   "cell_type": "code",
   "execution_count": null,
   "id": "96ca750a-ddb4-4e68-9520-7dd9b19a0309",
   "metadata": {},
   "outputs": [],
   "source": [
    "g = init_grapth()"
   ]
  },
  {
   "cell_type": "code",
   "execution_count": null,
   "id": "58ac3747-f93d-4309-9d1b-9e9f063a6d4b",
   "metadata": {},
   "outputs": [],
   "source": [
    "g.bfs(g.get_root())"
   ]
  },
  {
   "cell_type": "code",
   "execution_count": null,
   "id": "d35bd976-97f4-455c-b252-2920fee4e33c",
   "metadata": {},
   "outputs": [],
   "source": [
    "g.num_edges"
   ]
  },
  {
   "cell_type": "code",
   "execution_count": null,
   "id": "a6e22ba4-3f30-4744-a060-c249c6c36461",
   "metadata": {},
   "outputs": [],
   "source": [
    "g.parent"
   ]
  },
  {
   "cell_type": "code",
   "execution_count": null,
   "id": "a074c7bb-62ad-45a8-a4c1-9f63fac1ea55",
   "metadata": {},
   "outputs": [],
   "source": [
    "g.find_path(1, 7)"
   ]
  },
  {
   "cell_type": "code",
   "execution_count": null,
   "id": "f7cbd63b-fdab-42c7-824d-e221f4b4a1a1",
   "metadata": {},
   "outputs": [],
   "source": []
  }
 ],
 "metadata": {
  "kernelspec": {
   "display_name": "Python 3 (ipykernel)",
   "language": "python",
   "name": "python3"
  },
  "language_info": {
   "codemirror_mode": {
    "name": "ipython",
    "version": 3
   },
   "file_extension": ".py",
   "mimetype": "text/x-python",
   "name": "python",
   "nbconvert_exporter": "python",
   "pygments_lexer": "ipython3",
   "version": "3.8.9"
  }
 },
 "nbformat": 4,
 "nbformat_minor": 5
}
